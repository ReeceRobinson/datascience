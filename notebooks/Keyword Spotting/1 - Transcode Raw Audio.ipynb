{
 "cells": [
  {
   "cell_type": "markdown",
   "metadata": {
    "deletable": true,
    "editable": true
   },
   "source": [
    "# Pre-process the raw recordings - Transcode to PCM_16\n",
    "\n",
    "Author: Reece Robinson, 2016"
   ]
  },
  {
   "cell_type": "code",
   "execution_count": 45,
   "metadata": {
    "collapsed": false,
    "deletable": true,
    "editable": true
   },
   "outputs": [],
   "source": [
    "%matplotlib inline\n",
    "import seaborn\n",
    "import numpy as np\n",
    "import scipy\n",
    "import matplotlib.pyplot as plt\n",
    "import pandas as pd\n",
    "import librosa\n",
    "import librosa.display\n",
    "import soundfile as sf\n",
    "import os"
   ]
  },
  {
   "cell_type": "code",
   "execution_count": 46,
   "metadata": {
    "collapsed": true,
    "deletable": true,
    "editable": true
   },
   "outputs": [],
   "source": [
    "source_directory = r'/Volumes/ThorsHammer/Data Science/data/audio-recognition/raw/'\n",
    "resample_directory = r'/Volumes/ThorsHammer/Data Science/data/audio-recognition/16k/'"
   ]
  },
  {
   "cell_type": "markdown",
   "metadata": {
    "deletable": true,
    "editable": true
   },
   "source": [
    "### List the raw recorded audio files\n",
    "Store the file paths in `raw_files`."
   ]
  },
  {
   "cell_type": "code",
   "execution_count": 50,
   "metadata": {
    "collapsed": false,
    "deletable": true,
    "editable": true
   },
   "outputs": [
    {
     "name": "stdout",
     "output_type": "stream",
     "text": [
      "161225-000.wav\n",
      "161225-001.wav\n",
      "161225-002.wav\n",
      "161225-003.wav\n",
      "161225-004.wav\n",
      "161225-005.wav\n",
      "161225-006.wav\n"
     ]
    }
   ],
   "source": [
    "# Find the audio wav files in the source folder\n",
    "raw_files = []\n",
    "for file in os.listdir(source_directory):\n",
    "    if file.endswith(\".wav\"):\n",
    "        raw_files.append(file)\n",
    "        print(raw_files[-1])\n",
    "        "
   ]
  },
  {
   "cell_type": "markdown",
   "metadata": {
    "deletable": true,
    "editable": true
   },
   "source": [
    "### We need to transcode the input audio files into PCM_16\n",
    "Write transcoded files to `resampled_directory`."
   ]
  },
  {
   "cell_type": "code",
   "execution_count": 49,
   "metadata": {
    "collapsed": false,
    "deletable": true,
    "editable": true
   },
   "outputs": [],
   "source": [
    "from IPython.display import Audio\n",
    "\n",
    "if not os.path.exists(resample_directory):\n",
    "    os.makedirs(resample_directory)\n",
    "    \n",
    "resample_rate = 16000\n",
    "for filename in raw_files:\n",
    "    data, samplerate = sf.read(os.path.join(source_directory,filename), dtype='float32')\n",
    "    data = data.T\n",
    "    data_16k = librosa.resample(data, samplerate, resample_rate).T\n",
    "    sf.write(os.path.join(resample_directory,filename), data_16k, resample_rate, subtype='PCM_16')\n"
   ]
  }
 ],
 "metadata": {
  "anaconda-cloud": {},
  "kernelspec": {
   "display_name": "Python [conda root]",
   "language": "python",
   "name": "conda-root-py"
  },
  "language_info": {
   "codemirror_mode": {
    "name": "ipython",
    "version": 2
   },
   "file_extension": ".py",
   "mimetype": "text/x-python",
   "name": "python",
   "nbconvert_exporter": "python",
   "pygments_lexer": "ipython2",
   "version": "2.7.13"
  }
 },
 "nbformat": 4,
 "nbformat_minor": 1
}
