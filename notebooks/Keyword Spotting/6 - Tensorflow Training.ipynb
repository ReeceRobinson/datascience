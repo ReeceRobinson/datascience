{
 "cells": [
  {
   "cell_type": "markdown",
   "metadata": {
    "deletable": true,
    "editable": true
   },
   "source": [
    "# Training Notebook using Tensorflow\n",
    "This notebook explores a model architecture ustilsing a Recurrent Neural Network with Gated Recurent Units.\n",
    "\n",
    "A small subset of the training data is used to help ensure faster iterations."
   ]
  },
  {
   "cell_type": "code",
   "execution_count": 187,
   "metadata": {
    "collapsed": false,
    "deletable": true,
    "editable": true
   },
   "outputs": [],
   "source": [
    "import errno    \n",
    "import os\n",
    "\n",
    "# Helper Functions\n",
    "def normalize(train):\n",
    "    mean, std = train.mean(), train.std()\n",
    "    train = (train - mean) / std\n",
    "    print(\"mean: %f\"%mean)\n",
    "    print(\"std: %f\"%std)\n",
    "    return train, mean, std\n",
    "\n",
    "def normalize_with_paras(test, mean, std):\n",
    "    test = (test - mean) / std\n",
    "    return test\n",
    "\n",
    "def next_batch(data, labels, current_batch, batch_size):\n",
    "    start_idx = current_batch * batch_size\n",
    "    end_idx = (current_batch + 1)*batch_size\n",
    "    current_batch += 1\n",
    "    return (current_batch, data[start_idx:end_idx], labels[start_idx:end_idx] )\n",
    "\n",
    "def makedirs(path):\n",
    "    try:\n",
    "        os.makedirs(path)\n",
    "    except OSError as exc:  # Python >2.5\n",
    "        if exc.errno == errno.EEXIST and os.path.isdir(path):\n",
    "            pass\n",
    "        else:\n",
    "            raise"
   ]
  },
  {
   "cell_type": "code",
   "execution_count": 188,
   "metadata": {
    "collapsed": false,
    "deletable": true,
    "editable": true
   },
   "outputs": [
    {
     "name": "stdout",
     "output_type": "stream",
     "text": [
      "mean: -26.258426\n",
      "std: 12.645518\n"
     ]
    }
   ],
   "source": [
    "# Data Preparation\n",
    "import numpy as np\n",
    "import os\n",
    "mel_directory = r'/Volumes/ThorsHammer/DataScience/data/audio-recognition/mel_3.5_100ms/'\n",
    "X_train_1 = np.load(os.path.join(mel_directory,\"161225-000.wav-mel.npy\")).astype(float).transpose(0,2,1)\n",
    "y_train_1 = np.load(os.path.join(mel_directory,\"161225-000-mel-labels.npy\")).astype(int)\n",
    "X_train_2 = np.load(os.path.join(mel_directory,\"161225-002.wav-mel.npy\")).astype(float).transpose(0,2,1)\n",
    "y_train_2 = np.load(os.path.join(mel_directory,\"161225-002-mel-labels.npy\")).astype(int)\n",
    "X_train_4 = np.load(os.path.join(mel_directory,\"161225-006.wav-mel.npy\")).astype(float).transpose(0,2,1)\n",
    "y_train_4 = np.load(os.path.join(mel_directory,\"161225-006-mel-labels.npy\")).astype(int)\n",
    "\n",
    "# X_train_part = np.vstack((X_train_1, X_train_2))\n",
    "X_train = np.vstack((X_train_2, X_train_4))\n",
    "\n",
    "# del(X_train_1)\n",
    "del(X_train_2)\n",
    "del(X_train_4)\n",
    "# del(X_train_part)\n",
    "\n",
    "# y_train_part = np.concatenate((y_train_1,y_train_2), axis=0)\n",
    "y_train = np.concatenate((y_train_2,y_train_4), axis=0)\n",
    "\n",
    "# del(y_train_1)\n",
    "del(y_train_2)\n",
    "del(y_train_4)\n",
    "# del(y_train_part)\n",
    "\n",
    "X_test = np.load(os.path.join(mel_directory,\"161225-001.wav-mel.npy\")).astype(float).transpose(0,2,1)\n",
    "y_test = np.load(os.path.join(mel_directory,\"161225-001-mel-labels.npy\")).astype(int)\n",
    "X_train, mean, std = normalize(X_train)\n",
    "X_test = normalize_with_paras(X_test, mean, std)"
   ]
  },
  {
   "cell_type": "code",
   "execution_count": 189,
   "metadata": {
    "collapsed": false,
    "deletable": true,
    "editable": true
   },
   "outputs": [
    {
     "name": "stdout",
     "output_type": "stream",
     "text": [
      "training data shape: (2024, 36, 40)\n",
      "training labels shape: (2024,)\n",
      "test data shape: (6059, 36, 40)\n",
      "test labels shape: (6059,)\n"
     ]
    }
   ],
   "source": [
    "print('training data shape:',X_train.shape)\n",
    "print('training labels shape:',y_train.shape)\n",
    "print('test data shape:',X_test.shape)\n",
    "print('test labels shape:',y_test.shape)"
   ]
  },
  {
   "cell_type": "code",
   "execution_count": 190,
   "metadata": {
    "collapsed": false,
    "deletable": true,
    "editable": true
   },
   "outputs": [
    {
     "name": "stdout",
     "output_type": "stream",
     "text": [
      "Baseline accuracy: 99.83. This is achieved by choosing the majority class.\n"
     ]
    }
   ],
   "source": [
    "# Baseline accuracy i.e. always choose the most frequent class\n",
    "baseline_acc = 100-(100.0*np.sum(y_test)/y_test.shape[0])\n",
    "print('Baseline accuracy: %0.2f. This is achieved by choosing the majority class.'%baseline_acc)"
   ]
  },
  {
   "cell_type": "markdown",
   "metadata": {
    "deletable": true,
    "editable": true
   },
   "source": [
    "# Model Construction\n",
    "The following model is a Recurrent Neural Network (RNN) with Gated Recurrent Units (GRU) memory cells."
   ]
  },
  {
   "cell_type": "code",
   "execution_count": 191,
   "metadata": {
    "collapsed": false,
    "deletable": true,
    "editable": true
   },
   "outputs": [],
   "source": [
    "import tensorflow as tf\n",
    "from tensorflow.contrib.layers import fully_connected\n",
    "from tensorflow.contrib.rnn import GRUCell\n",
    "from datetime import datetime\n",
    "\n",
    "tf.set_random_seed(1436)\n",
    "\n",
    "now = datetime.utcnow().strftime(\"%Y%m%d%H%M%S\")\n",
    "root_logdir = \"tf_logs\"\n",
    "logdir_train = \"{}/run-{}-train/\".format(root_logdir, now)\n",
    "logdir_test = \"{}/run-{}-test/\".format(root_logdir, now)\n",
    "\n",
    "tf.reset_default_graph()\n",
    "\n",
    "n_inputs = 40\n",
    "n_steps = 36\n",
    "\n",
    "n_neurons = 40\n",
    "n_layers = 2\n",
    "n_fully_connected = 96\n",
    "n_outputs = 2\n",
    "\n",
    "learning_rate = 0.001\n",
    "\n",
    "epsilon = 0.00000001\n",
    "\n",
    "X = tf.placeholder(tf.float32, [None, n_steps, n_inputs]) # n_steps is the number of time steps\n",
    "y = tf.placeholder(tf.int64, [None])\n",
    "keep_prob = tf.placeholder(tf.float32, name='keep_prob')\n",
    "\n",
    "# RNN(GRU) & fully connected layers\n",
    "with tf.name_scope('rnn'):\n",
    "    with tf.contrib.framework.arg_scope(\n",
    "        [ fully_connected],\n",
    "        weights_initializer = tf.contrib.layers.variance_scaling_initializer()):\n",
    "        \n",
    "        cells=[]\n",
    "        for _ in range(n_layers):\n",
    "            cell = tf.contrib.rnn.DropoutWrapper(GRUCell(num_units=n_neurons), input_keep_prob=keep_prob)\n",
    "            cells.append(cell)\n",
    "        multi_layer_cell = tf.contrib.rnn.MultiRNNCell(cells, state_is_tuple=False)        \n",
    "        outputs, states = tf.nn.dynamic_rnn(multi_layer_cell, X, dtype=tf.float32)\n",
    "        FC_1_logits = fully_connected(states, n_fully_connected)\n",
    "        logits = fully_connected(FC_1_logits, n_outputs, activation_fn=None)\n",
    "\n",
    "# cost function\n",
    "with tf.name_scope('loss'):\n",
    "    xentropy = tf.nn.sparse_softmax_cross_entropy_with_logits(labels=y, logits=logits)\n",
    "    loss = tf.reduce_mean(xentropy)\n",
    "\n",
    "# Gradient decent optimiser\n",
    "with tf.name_scope('train'):    \n",
    "    optimiser = tf.train.AdamOptimizer(learning_rate=learning_rate)\n",
    "    training_op = optimiser.minimize(loss)\n",
    "\n",
    "# evaluation using accuracy\n",
    "with tf.name_scope('eval'):\n",
    "    proba = tf.nn.softmax(logits, name='proba')\n",
    "    predicted = tf.argmax(proba,1)\n",
    "    confusion = tf.confusion_matrix(labels=y, predictions=predicted)\n",
    "\n",
    "    actual = y\n",
    "\n",
    "    tp = tf.to_float(tf.count_nonzero(predicted * actual))\n",
    "    tn = tf.to_float(tf.count_nonzero((predicted - 1) * (actual - 1)))\n",
    "    fp = tf.to_float(tf.count_nonzero(predicted * (actual - 1)))\n",
    "    fn = tf.to_float(tf.count_nonzero((predicted - 1) * actual))\n",
    "    \n",
    "    precision = tp /(tp + fp + epsilon)\n",
    "    recall = tp / (tp + fn + epsilon)\n",
    "    f1 = 2 * precision * recall / (precision + recall + epsilon)\n",
    "    \n",
    "    precision_summary = tf.summary.scalar('precision',precision)\n",
    "    recall_summary = tf.summary.scalar('recall',recall)\n",
    "    f1_summary = tf.summary.scalar('f1',f1)\n",
    "    \n",
    "    tp_summary = tf.summary.scalar('tp',tp)\n",
    "    fp_summary = tf.summary.scalar('fp',fp)\n",
    "\n",
    "    tn_summary = tf.summary.scalar('tn',tn)\n",
    "    fn_summary = tf.summary.scalar('fn',fn)\n",
    "\n",
    "    # Merge all the summaries and write them out to /tmp/mnist_logs (by default)\n",
    "    merged = tf.summary.merge_all()\n",
    "    file_writer_train = tf.summary.FileWriter(logdir_train, tf.get_default_graph()) \n",
    "    file_writer_test = tf.summary.FileWriter(logdir_test, tf.get_default_graph()) "
   ]
  },
  {
   "cell_type": "markdown",
   "metadata": {
    "deletable": true,
    "editable": true
   },
   "source": [
    "# Model Execution"
   ]
  },
  {
   "cell_type": "code",
   "execution_count": 192,
   "metadata": {
    "collapsed": false,
    "deletable": true,
    "editable": true,
    "scrolled": false
   },
   "outputs": [
    {
     "name": "stdout",
     "output_type": "stream",
     "text": [
      "0 f1 test score: 0.0\n",
      "1 f1 test score: 0.0\n",
      "2 f1 test score: 0.0\n",
      "3 f1 test score: 0.0\n",
      "4 f1 test score: 0.0\n",
      "5 f1 test score: 0.0\n",
      "6 f1 test score: 0.0\n",
      "7 f1 test score: 0.0\n",
      "8 f1 test score: 0.4615385\n",
      "Saved new best model with f1 score: 0.4615\n",
      "Train Confusion Matrix:\n",
      "[[1980    4]\n",
      " [  33    7]]\n",
      "Test Confusion Matrix:\n",
      "[[6049    0]\n",
      " [   7    3]]\n",
      "---\n",
      "9 f1 test score: 0.4615385\n",
      "Saved new best model with f1 score: 0.4615\n",
      "Train Confusion Matrix:\n",
      "[[1969   15]\n",
      " [  26   14]]\n",
      "Test Confusion Matrix:\n",
      "[[6049    0]\n",
      " [   7    3]]\n",
      "---\n",
      "10 f1 test score: 0.75\n",
      "Saved new best model with f1 score: 0.7500\n",
      "Train Confusion Matrix:\n",
      "[[1981    3]\n",
      " [  28   12]]\n",
      "Test Confusion Matrix:\n",
      "[[6049    0]\n",
      " [   4    6]]\n",
      "---\n",
      "11 f1 test score: 0.6666667\n",
      "12 f1 test score: 0.88888896\n",
      "Saved new best model with f1 score: 0.8889\n",
      "Train Confusion Matrix:\n",
      "[[1982    2]\n",
      " [  24   16]]\n",
      "Test Confusion Matrix:\n",
      "[[6049    0]\n",
      " [   2    8]]\n",
      "---\n",
      "13 f1 test score: 0.75\n",
      "14 f1 test score: 0.9473684\n",
      "Saved new best model with f1 score: 0.9474\n",
      "Train Confusion Matrix:\n",
      "[[1975    9]\n",
      " [  15   25]]\n",
      "Test Confusion Matrix:\n",
      "[[6049    0]\n",
      " [   1    9]]\n",
      "---\n",
      "15 f1 test score: 0.82352936\n",
      "16 f1 test score: 0.9\n",
      "17 f1 test score: 0.9\n",
      "18 f1 test score: 0.88888896\n",
      "19 f1 test score: 0.9\n",
      "20 f1 test score: 0.9\n",
      "21 f1 test score: 0.7826087\n",
      "22 f1 test score: 0.75\n",
      "23 f1 test score: 0.82352936\n",
      "24 f1 test score: 0.9473684\n",
      "Saved new best model with f1 score: 0.9474\n",
      "Train Confusion Matrix:\n",
      "[[1983    1]\n",
      " [  16   24]]\n",
      "Test Confusion Matrix:\n",
      "[[6049    0]\n",
      " [   1    9]]\n",
      "---\n",
      "25 f1 test score: 0.9\n",
      "26 f1 test score: 0.9\n",
      "27 f1 test score: 0.9\n",
      "28 f1 test score: 0.9\n",
      "29 f1 test score: 0.9\n",
      "30 f1 test score: 0.9\n",
      "31 f1 test score: 0.9473684\n",
      "Saved new best model with f1 score: 0.9474\n",
      "Train Confusion Matrix:\n",
      "[[1984    0]\n",
      " [   6   34]]\n",
      "Test Confusion Matrix:\n",
      "[[6049    0]\n",
      " [   1    9]]\n",
      "---\n",
      "32 f1 test score: 0.9\n",
      "33 f1 test score: 0.9473684\n",
      "Saved new best model with f1 score: 0.9474\n",
      "Train Confusion Matrix:\n",
      "[[1976    8]\n",
      " [   9   31]]\n",
      "Test Confusion Matrix:\n",
      "[[6049    0]\n",
      " [   1    9]]\n",
      "---\n",
      "34 f1 test score: 0.9\n",
      "35 f1 test score: 0.88888896\n",
      "36 f1 test score: 0.9\n",
      "37 f1 test score: 0.9473684\n",
      "Saved new best model with f1 score: 0.9474\n",
      "Train Confusion Matrix:\n",
      "[[1982    2]\n",
      " [   8   32]]\n",
      "Test Confusion Matrix:\n",
      "[[6049    0]\n",
      " [   1    9]]\n",
      "---\n",
      "38 f1 test score: 0.9473684\n",
      "Saved new best model with f1 score: 0.9474\n",
      "Train Confusion Matrix:\n",
      "[[1974   10]\n",
      " [   4   36]]\n",
      "Test Confusion Matrix:\n",
      "[[6049    0]\n",
      " [   1    9]]\n",
      "---\n",
      "39 f1 test score: 0.9\n",
      "40 f1 test score: 0.88888896\n",
      "41 f1 test score: 0.9\n",
      "42 f1 test score: 0.88888896\n",
      "43 f1 test score: 0.9473684\n",
      "Saved new best model with f1 score: 0.9474\n",
      "Train Confusion Matrix:\n",
      "[[1982    2]\n",
      " [   5   35]]\n",
      "Test Confusion Matrix:\n",
      "[[6049    0]\n",
      " [   1    9]]\n",
      "---\n",
      "44 f1 test score: 0.9\n",
      "45 f1 test score: 0.88888896\n",
      "46 f1 test score: 0.9473684\n",
      "Saved new best model with f1 score: 0.9474\n",
      "Train Confusion Matrix:\n",
      "[[1982    2]\n",
      " [   5   35]]\n",
      "Test Confusion Matrix:\n",
      "[[6049    0]\n",
      " [   1    9]]\n",
      "---\n",
      "47 f1 test score: 0.9\n",
      "48 f1 test score: 0.88888896\n",
      "49 f1 test score: 0.88888896\n",
      "50 f1 test score: 0.88888896\n",
      "51 f1 test score: 0.88888896\n",
      "52 f1 test score: 0.9473684\n",
      "Saved new best model with f1 score: 0.9474\n",
      "Train Confusion Matrix:\n",
      "[[1981    3]\n",
      " [   3   37]]\n",
      "Test Confusion Matrix:\n",
      "[[6049    0]\n",
      " [   1    9]]\n",
      "---\n",
      "53 f1 test score: 0.88888896\n",
      "54 f1 test score: 0.9473684\n",
      "Saved new best model with f1 score: 0.9474\n",
      "Train Confusion Matrix:\n",
      "[[1982    2]\n",
      " [   7   33]]\n",
      "Test Confusion Matrix:\n",
      "[[6049    0]\n",
      " [   1    9]]\n",
      "---\n",
      "55 f1 test score: 0.84210527\n",
      "56 f1 test score: 0.88888896\n",
      "57 f1 test score: 0.9473684\n",
      "Saved new best model with f1 score: 0.9474\n",
      "Train Confusion Matrix:\n",
      "[[1975    9]\n",
      " [   2   38]]\n",
      "Test Confusion Matrix:\n",
      "[[6049    0]\n",
      " [   1    9]]\n",
      "---\n",
      "58 f1 test score: 0.9473684\n",
      "Saved new best model with f1 score: 0.9474\n",
      "Train Confusion Matrix:\n",
      "[[1983    1]\n",
      " [   4   36]]\n",
      "Test Confusion Matrix:\n",
      "[[6049    0]\n",
      " [   1    9]]\n",
      "---\n",
      "59 f1 test score: 0.8000001\n",
      "60 f1 test score: 0.84210527\n",
      "61 f1 test score: 0.9473684\n",
      "Saved new best model with f1 score: 0.9474\n",
      "Train Confusion Matrix:\n",
      "[[1978    6]\n",
      " [   5   35]]\n",
      "Test Confusion Matrix:\n",
      "[[6049    0]\n",
      " [   1    9]]\n",
      "---\n",
      "62 f1 test score: 0.9473684\n",
      "Saved new best model with f1 score: 0.9474\n",
      "Train Confusion Matrix:\n",
      "[[1981    3]\n",
      " [   3   37]]\n",
      "Test Confusion Matrix:\n",
      "[[6049    0]\n",
      " [   1    9]]\n",
      "---\n",
      "63 f1 test score: 0.88888896\n",
      "64 f1 test score: 0.88888896\n",
      "65 f1 test score: 0.72727275\n",
      "66 f1 test score: 0.8000001\n",
      "67 f1 test score: 0.88888896\n",
      "68 f1 test score: 0.8571428\n",
      "69 f1 test score: 0.88888896\n",
      "70 f1 test score: 0.9\n",
      "71 f1 test score: 0.9473684\n",
      "Saved new best model with f1 score: 0.9474\n",
      "Train Confusion Matrix:\n",
      "[[1983    1]\n",
      " [   4   36]]\n",
      "Test Confusion Matrix:\n",
      "[[6049    0]\n",
      " [   1    9]]\n",
      "---\n",
      "72 f1 test score: 0.9473684\n",
      "Saved new best model with f1 score: 0.9474\n",
      "Train Confusion Matrix:\n",
      "[[1981    3]\n",
      " [   6   34]]\n",
      "Test Confusion Matrix:\n",
      "[[6049    0]\n",
      " [   1    9]]\n",
      "---\n",
      "73 f1 test score: 0.88888896\n",
      "74 f1 test score: 0.9473684\n",
      "Saved new best model with f1 score: 0.9474\n",
      "Train Confusion Matrix:\n",
      "[[1982    2]\n",
      " [   6   34]]\n",
      "Test Confusion Matrix:\n",
      "[[6049    0]\n",
      " [   1    9]]\n",
      "---\n",
      "75 f1 test score: 0.88888896\n",
      "76 f1 test score: 0.9\n",
      "77 f1 test score: 0.84210527\n",
      "78 f1 test score: 0.84210527\n",
      "79 f1 test score: 0.88888896\n",
      "80 f1 test score: 0.88888896\n",
      "81 f1 test score: 0.9\n",
      "82 f1 test score: 0.88888896\n",
      "83 f1 test score: 0.9\n",
      "84 f1 test score: 0.88888896\n",
      "85 f1 test score: 0.88888896\n",
      "86 f1 test score: 0.8571428\n",
      "87 f1 test score: 0.9473684\n",
      "Saved new best model with f1 score: 0.9474\n",
      "Train Confusion Matrix:\n",
      "[[1983    1]\n",
      " [   3   37]]\n",
      "Test Confusion Matrix:\n",
      "[[6049    0]\n",
      " [   1    9]]\n",
      "---\n",
      "88 f1 test score: 0.9473684\n",
      "Saved new best model with f1 score: 0.9474\n",
      "Train Confusion Matrix:\n",
      "[[1980    4]\n",
      " [   1   39]]\n",
      "Test Confusion Matrix:\n",
      "[[6049    0]\n",
      " [   1    9]]\n",
      "---\n",
      "89 f1 test score: 0.9473684\n",
      "Saved new best model with f1 score: 0.9474\n",
      "Train Confusion Matrix:\n",
      "[[1982    2]\n",
      " [   2   38]]\n",
      "Test Confusion Matrix:\n",
      "[[6049    0]\n",
      " [   1    9]]\n",
      "---\n",
      "90 f1 test score: 0.8571428\n",
      "91 f1 test score: 0.9473684\n",
      "Saved new best model with f1 score: 0.9474\n",
      "Train Confusion Matrix:\n",
      "[[1978    6]\n",
      " [   3   37]]\n",
      "Test Confusion Matrix:\n",
      "[[6049    0]\n",
      " [   1    9]]\n",
      "---\n",
      "92 f1 test score: 0.9\n",
      "93 f1 test score: 0.88888896\n",
      "94 f1 test score: 0.9473684\n",
      "Saved new best model with f1 score: 0.9474\n",
      "Train Confusion Matrix:\n",
      "[[1979    5]\n",
      " [   6   34]]\n",
      "Test Confusion Matrix:\n",
      "[[6049    0]\n",
      " [   1    9]]\n",
      "---\n",
      "95 f1 test score: 0.88888896\n",
      "96 f1 test score: 0.88888896\n",
      "97 f1 test score: 0.88888896\n",
      "98 f1 test score: 0.9\n",
      "99 f1 test score: 0.9473684\n",
      "Saved new best model with f1 score: 0.9474\n",
      "Train Confusion Matrix:\n",
      "[[1981    3]\n",
      " [   5   35]]\n",
      "Test Confusion Matrix:\n",
      "[[6049    0]\n",
      " [   1    9]]\n",
      "---\n"
     ]
    }
   ],
   "source": [
    "n_epochs = 100\n",
    "batch_size = 96\n",
    "best_model_file = \"\"\n",
    "keep_prob_dropout = 0.5\n",
    "\n",
    "saver = tf.train.Saver()\n",
    "run_dir = \"kws-{}\".format(n_epochs)\n",
    "\n",
    "with tf.Session() as sess:\n",
    "    sess.run(tf.global_variables_initializer())\n",
    "    sess.run(tf.local_variables_initializer())\n",
    "    best_f1 = -1\n",
    "    \n",
    "    for epoch in range(n_epochs):\n",
    "        current_batch = 0\n",
    "        for iteration in range(X_train.shape[0] // batch_size):\n",
    "            current_batch, X_batch, y_batch = next_batch(X_train, y_train, current_batch, batch_size)\n",
    "            sess.run(training_op, feed_dict={X: X_batch, y: y_batch, keep_prob:[keep_prob_dropout]})\n",
    "\n",
    "        # Compute epoch metrics of interest to display in Tensorboard\n",
    "        summary_train = sess.run(merged, {X: X_train, y: y_train, keep_prob:[keep_prob_dropout]})\n",
    "        file_writer_train.add_summary(summary_train,epoch)\n",
    "        file_writer_train.flush()\n",
    "        \n",
    "        summary_test = sess.run(merged, {X: X_test, y: y_test, keep_prob:[1.0]})\n",
    "        file_writer_test.add_summary(summary_test,epoch)\n",
    "        file_writer_test.flush()   \n",
    "        \n",
    "        # Compute epoch metrics of interest to print in this notebook \n",
    "        pred_train = predicted.eval(feed_dict={X: X_train, y: y_train, keep_prob:[keep_prob_dropout]})\n",
    "        pred_test = predicted.eval(feed_dict={X: X_test, y: y_test, keep_prob:[1.0]})\n",
    "        \n",
    "        logits_train_vals = logits.eval(feed_dict={X: X_train, y: y_train, keep_prob:[keep_prob_dropout]})\n",
    "        logits_test_vals = logits.eval(feed_dict={X: X_test, y: y_test, keep_prob:[1.0]})\n",
    "        confusion_train = confusion.eval(feed_dict={logits: logits_train_vals, y: y_train})\n",
    "        confusion_test = confusion.eval(feed_dict={logits: logits_test_vals, y: y_test})\n",
    "        \n",
    "        tp_val_test = tp.eval(feed_dict={predicted:pred_test, actual:y_test})\n",
    "        tn_val_test = tn.eval(feed_dict={predicted:pred_test, actual:y_test})\n",
    "        fp_val_test = fp.eval(feed_dict={predicted:pred_test, actual:y_test})\n",
    "        fn_val_test = fn.eval(feed_dict={predicted:pred_test, actual:y_test})\n",
    "        prec_val_test = precision.eval(feed_dict={tp:tp_val_test,fp:fp_val_test})\n",
    "        rec_val_test = recall.eval(feed_dict={tp:tp_val_test,fn:fn_val_test})\n",
    "        f1_score_test = f1.eval(feed_dict={precision:prec_val_test, recall:rec_val_test})\n",
    "              \n",
    "        print(epoch, \"f1 test score:\",f1_score_test)\n",
    "\n",
    "        # Save best model so far\n",
    "        model_dir = './saved models/{}'.format(run_dir)\n",
    "        makedirs(model_dir)\n",
    "\n",
    "        if f1_score_test > 0 and f1_score_test >= best_f1:\n",
    "            now = datetime.utcnow().strftime(\"%Y%m%d%H%M%S\")\n",
    "            fname = './{}/kws_model-{}-{}.ckpt'.format(model_dir,epoch,now)\n",
    "            best_model_file = '{}/kws_model-{}-{}.ckpt'.format(model_dir,epoch,now)\n",
    "            tf.add_to_collection(\"predicted\", predicted)\n",
    "            tf.add_to_collection(\"X\", X)\n",
    "            save_path = saver.save(sess, fname)\n",
    "            best_f1 = f1_score_test\n",
    "\n",
    "            print(\"Saved new best model with f1 score: %0.4f\"%f1_score_test)\n",
    "            print(\"Train Confusion Matrix:\")\n",
    "            print(confusion_train)\n",
    "            print(\"Test Confusion Matrix:\")\n",
    "            print(confusion_test)\n",
    "            print('---')\n",
    "            \n",
    "    file_writer_train.close()\n",
    "    file_writer_test.close()"
   ]
  },
  {
   "cell_type": "markdown",
   "metadata": {
    "deletable": true,
    "editable": true
   },
   "source": [
    "# Debugging\n",
    "The following cell provides debug information from the model."
   ]
  },
  {
   "cell_type": "markdown",
   "metadata": {
    "deletable": true,
    "editable": true
   },
   "source": [
    "```\n",
    "with tf.Session() as sess:\n",
    "    sess.run(tf.global_variables_initializer())\n",
    "    sess.run(tf.local_variables_initializer())\n",
    "    logits_vals = logits.eval(feed_dict={X:X_train[4500:4600],y:y_train[4500:4600]})\n",
    "    y_vals = y.eval(feed_dict={y: y_train[4500:4600]})\n",
    "    pred = predicted.eval(feed_dict={X:X_train[4500:4600],y:y_train[4500:4600]})\n",
    "    tp_val = tp.eval(feed_dict={predicted:pred, actual:y_vals})\n",
    "    tn_val = tn.eval(feed_dict={predicted:pred, actual:y_vals})\n",
    "    fp_val = fp.eval(feed_dict={predicted:pred, actual:y_vals})\n",
    "    fn_val = fn.eval(feed_dict={predicted:pred, actual:y_vals})\n",
    "    confus = confusion.eval(feed_dict={logits:logits_vals, y: y_vals})\n",
    "    prec_val = precision.eval(feed_dict={tp:tp_val,fp:fp_val})\n",
    "    rec_val = recall.eval(feed_dict={tp:tp_val,fn:fn_val})\n",
    "    f1_score = f1.eval(feed_dict={precision:prec_val, recall:rec_val})\n",
    "    print(y_vals)\n",
    "    print(pred)\n",
    "    print(tp_val)\n",
    "    print(tn_val)\n",
    "    print(fp_val)\n",
    "    print(fn_val)\n",
    "    print(confus)\n",
    "    print(prec_val)\n",
    "    print(rec_val)\n",
    "    print(f1_score)\n",
    "```"
   ]
  },
  {
   "cell_type": "markdown",
   "metadata": {
    "deletable": true,
    "editable": true
   },
   "source": [
    "# Generate a Prediction from a Saved Model\n",
    "The model is not that great. It seems to detect birds outside more than the target class."
   ]
  },
  {
   "cell_type": "code",
   "execution_count": 199,
   "metadata": {
    "collapsed": false,
    "deletable": true,
    "editable": true
   },
   "outputs": [
    {
     "name": "stdout",
     "output_type": "stream",
     "text": [
      "./saved models/kws-100/kws_model-99-20180330231544.ckpt\n"
     ]
    }
   ],
   "source": [
    "print(best_model_file) #./saved models/kws-100/kws_model-77-20170904090416.ckpt"
   ]
  },
  {
   "cell_type": "code",
   "execution_count": 200,
   "metadata": {
    "collapsed": false,
    "deletable": true,
    "editable": true
   },
   "outputs": [],
   "source": [
    "# best_model_file = r'./saved models/kws-100/kws_model-64-20180330211515.ckpt'"
   ]
  },
  {
   "cell_type": "code",
   "execution_count": 209,
   "metadata": {
    "collapsed": false,
    "deletable": true,
    "editable": true
   },
   "outputs": [
    {
     "name": "stdout",
     "output_type": "stream",
     "text": [
      "INFO:tensorflow:Restoring parameters from ./saved models/kws-100/kws_model-99-20180330231544.ckpt\n",
      "prediction: [0 0 0 0 0 0 0 0 0 0 0 0 0 0 0 0 0 0 0 0 0 0 0 0 0 0 0 0 0 0 0 0 0 0 0 0 0\n",
      " 0 0 0 0 0 0 0 0 0 0 0 0 0 0 0 0 0 0 0 0 0 0 0 0 0 0 0 0 0 0 0 0 0 0 0 0 0\n",
      " 0 0 0 0 0 0 0 0 0 0 0 0 0 0 0 0 0 0 0 0 0 0 0 0 0 0 0 0 0 0 0 0 0 0 0 0 0\n",
      " 0 0 0 0 0 0 0 0 0 0 0 0 0 0 0 0 0 0 0 0 0 0 0 0 0 0 0 0 0 0 0 0 0 0 0 0 0\n",
      " 0 0 0 0 0 0 0 0 0 0 0 0 0 0 0 0 0 0 0 0 0 0 0 0 0 0 0 0 0 0 0 0 0 0 0 0 0\n",
      " 0 0 0 0 0 0 0 0 0 0 0 0 0 0 0 0 0 0 0 0 0 0 0 0 0 0 0 0 0 0 0 0 0 0 0 0 0\n",
      " 0 0 0 0 0 0 0 0 0 0 0 0 0 0 0 0 0 0 0 0 0 0 0 0 0 0 0 0 0 0 0 0 0 0 0 0 0\n",
      " 0 0 0 0 0 0 0 0 0 0 0 0 0 0 0 0 0 0 0 0 0 0 0 0 0 0 0 0 0 0 0 0 0 0 0 0 0\n",
      " 0 0 0 0 0 0 0 0 0 0 0 0 0 0 0 0 0 0 0 0 0 0 0 0 0 0 0 0 0 0 0 0 0 0 0 0 0\n",
      " 0 0 0 0 0 0 0 0 0 0 0 0 0 0 0 0 0 0 0 0 0 0 0 0 0 0 0 0 0 0 0 0 0 0 0 0 0\n",
      " 0 0 0 0 0 0 0 0 0 0 0 0 0 0 0 0 0 0 0 0 0 0 0 0 0 0 0 0 0 0 0 0 0 0 0 0 0\n",
      " 0 0 0 0 0 0 0 0 0 0 0 0 0 0 0 0 0 0 0 0 0 0 0 0 0 0 0 0 0 0 0 0 0 0 0 0 0\n",
      " 0 0 0 0 0 0 0 0 0 0 0 0 0 0 0 0 0 0 0 0 0 0 0 0 0 0 0 0 0 0 0 0 0 0 0 0 0\n",
      " 0 0 0 0 0 0 0 0 0 0 0 0 0 0 0 0 0 0 0 0 0 0 0 1 1 1 1 1 1 1 1 1 1 0 0 0 0\n",
      " 0 0 0 0 0 0 0 0 0 0 0 0 0 0 0 0 0 0 0 0 0 0 0 0 0 0 0 0 0 0 0 0 0]\n",
      "10\n"
     ]
    }
   ],
   "source": [
    "# look at an example input\n",
    "from matplotlib import pyplot as plt\n",
    "import numpy as np\n",
    "import os\n",
    "import tensorflow as tf\n",
    "\n",
    "mel_directory = r'/Volumes/ThorsHammer/DataScience/data/audio-recognition/mel_3.5_100ms/'\n",
    "\n",
    "# Learned Parameters from the training dataset\n",
    "# mean = -25.664221\n",
    "# std = 10.932781\n",
    "mean = -26.258426\n",
    "std = 12.645518\n",
    "X_test = np.load(os.path.join(mel_directory,\"161225-003.wav-mel.npy\")).astype(float).transpose(0,2,1)\n",
    "y_test = np.load(os.path.join(mel_directory,\"161225-003-mel-labels.npy\")).astype(int)\n",
    "\n",
    "# known positive class frame\n",
    "i = 0\n",
    "num = len(X_test)\n",
    "\n",
    "saver = tf.train.Saver()\n",
    "\n",
    "with tf.Session() as sess:\n",
    "    saver.restore(sess, best_model_file) # r\"./saved models/kws-20/kws_model-19-20170904083803.ckpt\")\n",
    "    X_raw = X_test[i:i+num].reshape(num,n_steps,n_inputs)\n",
    "    X_feed = normalize_with_paras(X_raw, mean, std).astype('float32') # calculated above\n",
    "    pred = predicted.eval(feed_dict={X:X_feed, keep_prob:1.0})\n",
    "    print('prediction:',pred)\n",
    "    print(sum(pred))\n"
   ]
  },
  {
   "cell_type": "code",
   "execution_count": 210,
   "metadata": {
    "collapsed": false,
    "deletable": true,
    "editable": true,
    "scrolled": false
   },
   "outputs": [
    {
     "data": {
      "image/png": "[encoded data removed]",
      "text/plain": [
       "<matplotlib.figure.Figure at 0x11c5ab198>"
      ]
     },
     "metadata": {},
     "output_type": "display_data"
    },
    {
     "name": "stdout",
     "output_type": "stream",
     "text": [
      "504 Label: 1\n"
     ]
    },
    {
     "data": {
      "image/png": "[encoded data removed]",
      "text/plain": [
       "<matplotlib.figure.Figure at 0x11f0c2080>"
      ]
     },
     "metadata": {},
     "output_type": "display_data"
    },
    {
     "name": "stdout",
     "output_type": "stream",
     "text": [
      "505 Label: 1\n"
     ]
    },
    {
     "data": {
      "image/png": "[encoded data removed]",
      "text/plain": [
       "<matplotlib.figure.Figure at 0x1c37f49400>"
      ]
     },
     "metadata": {},
     "output_type": "display_data"
    },
    {
     "name": "stdout",
     "output_type": "stream",
     "text": [
      "506 Label: 1\n"
     ]
    },
    {
     "data": {
      "image/png": "[encoded data removed]",
      "text/plain": [
       "<matplotlib.figure.Figure at 0x1c3a63a2e8>"
      ]
     },
     "metadata": {},
     "output_type": "display_data"
    },
    {
     "name": "stdout",
     "output_type": "stream",
     "text": [
      "507 Label: 1\n"
     ]
    },
    {
     "data": {
      "image/png": "[encoded data removed]",
      "text/plain": [
       "<matplotlib.figure.Figure at 0x11dd2fda0>"
      ]
     },
     "metadata": {},
     "output_type": "display_data"
    },
    {
     "name": "stdout",
     "output_type": "stream",
     "text": [
      "508 Label: 1\n"
     ]
    },
    {
     "data": {
      "image/png": "[encoded data removed]",
      "text/plain": [
       "<matplotlib.figure.Figure at 0x11081dc88>"
      ]
     },
     "metadata": {},
     "output_type": "display_data"
    },
    {
     "name": "stdout",
     "output_type": "stream",
     "text": [
      "509 Label: 1\n"
     ]
    },
    {
     "data": {
      "image/png": "[encoded data removed]",
      "text/plain": [
       "<matplotlib.figure.Figure at 0x11afaeb70>"
      ]
     },
     "metadata": {},
     "output_type": "display_data"
    },
    {
     "name": "stdout",
     "output_type": "stream",
     "text": [
      "510 Label: 1\n"
     ]
    },
    {
     "data": {
      "image/png": "[encoded data removed]",
      "text/plain": [
       "<matplotlib.figure.Figure at 0x11aecdb00>"
      ]
     },
     "metadata": {},
     "output_type": "display_data"
    },
    {
     "name": "stdout",
     "output_type": "stream",
     "text": [
      "511 Label: 1\n"
     ]
    },
    {
     "data": {
      "image/png": "[encoded data removed]",
      "text/plain": [
       "<matplotlib.figure.Figure at 0x1c3823ec18>"
      ]
     },
     "metadata": {},
     "output_type": "display_data"
    },
    {
     "name": "stdout",
     "output_type": "stream",
     "text": [
      "512 Label: 1\n"
     ]
    },
    {
     "data": {
      "image/png": "[encoded data removed]",
      "text/plain": [
       "<matplotlib.figure.Figure at 0x1c3a735d30>"
      ]
     },
     "metadata": {},
     "output_type": "display_data"
    },
    {
     "name": "stdout",
     "output_type": "stream",
     "text": [
      "513 Label: 0\n"
     ]
    }
   ],
   "source": [
    "idx = np.where(pred > 0)[0]\n",
    "for i in idx:\n",
    "    fig, ax = plt.subplots(figsize=(3, 4))\n",
    "    ax.imshow(X_test[i], cmap=plt.cm.magma, interpolation='nearest', aspect='auto')\n",
    "    plt.tight_layout()\n",
    "    plt.show()\n",
    "    print(i,'Label:',y_test[i])"
   ]
  },
  {
   "cell_type": "markdown",
   "metadata": {
    "deletable": true,
    "editable": true
   },
   "source": [
    "# TODOs\n",
    "* Hyper parameter tuning\n",
    "* More test data\n",
    "* Augment data with copies of beeps"
   ]
  },
  {
   "cell_type": "code",
   "execution_count": 207,
   "metadata": {},
   "outputs": [
    {
     "data": {
      "text/plain": [
       "(array([ 122,  123,  124,  125,  126,  127,  128,  129,  130,  718,  719,\n",
       "         720,  721,  722,  723,  724,  725,  726,  727, 1315, 1316, 1317,\n",
       "        1318, 1319, 1320, 1321, 1322, 1323]),)"
      ]
     },
     "execution_count": 207,
     "metadata": {},
     "output_type": "execute_result"
    }
   ],
   "source": [
    "np.where(pred == 1)"
   ]
  },
  {
   "cell_type": "code",
   "execution_count": 208,
   "metadata": {},
   "outputs": [
    {
     "data": {
      "text/plain": [
       "(array([ 121,  122,  123,  124,  125,  126,  127,  128,  129,  130,  717,\n",
       "         718,  719,  720,  721,  722,  723,  724,  725,  726, 1314, 1315,\n",
       "        1316, 1317, 1318, 1319, 1320, 1321, 1322, 1323]),)"
      ]
     },
     "execution_count": 208,
     "metadata": {},
     "output_type": "execute_result"
    }
   ],
   "source": [
    "np.where(y_test == 1)"
   ]
  },
  {
   "cell_type": "code",
   "execution_count": null,
   "metadata": {},
   "outputs": [],
   "source": []
  }
 ],
 "metadata": {
  "kernelspec": {
   "display_name": "Python ([tensorflow])",
   "language": "python",
   "name": "tensorflow"
  },
  "language_info": {
   "codemirror_mode": {
    "name": "ipython",
    "version": 3
   },
   "file_extension": ".py",
   "mimetype": "text/x-python",
   "name": "python",
   "nbconvert_exporter": "python",
   "pygments_lexer": "ipython3",
   "version": "3.6.4"
  }
 },
 "nbformat": 4,
 "nbformat_minor": 2
}
