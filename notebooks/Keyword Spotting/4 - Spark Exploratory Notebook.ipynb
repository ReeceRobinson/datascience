{
 "cells": [
  {
   "cell_type": "markdown",
   "metadata": {
    "deletable": true,
    "editable": true
   },
   "source": [
    "# Explore MEL data with Spark\n",
    "The purpose of this notebook is to validate the labelling of the mel spectrogram observations. Apache Spark is used as it is more performant when working with large files."
   ]
  },
  {
   "cell_type": "markdown",
   "metadata": {
    "deletable": true,
    "editable": true
   },
   "source": [
    "### Initialise Spark"
   ]
  },
  {
   "cell_type": "code",
   "execution_count": 2,
   "metadata": {
    "collapsed": false,
    "deletable": true,
    "editable": true
   },
   "outputs": [
    {
     "data": {
      "text/plain": [
       "u'2.1.1'"
      ]
     },
     "execution_count": 2,
     "metadata": {},
     "output_type": "execute_result"
    }
   ],
   "source": [
    "import findspark\n",
    "findspark.init('/Volumes/Thorshammer/Applications/spark')\n",
    "\n",
    "from pyspark.sql import SparkSession\n",
    "\n",
    "spark = SparkSession.builder.master(\"local[*]\").appName(\"Jupyter\").getOrCreate()\n",
    "\n",
    "spark.version"
   ]
  },
  {
   "cell_type": "code",
   "execution_count": 3,
   "metadata": {
    "collapsed": true,
    "deletable": true,
    "editable": true
   },
   "outputs": [],
   "source": [
    "sample_rate = 16000\n",
    "sample_length = 3.5\n",
    "stride = 0.01\n",
    "# This following represent the first postive class observation in the data\n",
    "positive_classes = {\n",
    "    '161225-001' : 9541250,\n",
    "    '161225-002' : 713600,\n",
    "    '161225-003' : 813800,\n",
    "    '161225-004' : 808700,\n",
    "    '161225-005' : 686400\n",
    "}\n",
    "\n",
    "file_sufix = '.wav-mel.csv'\n",
    "label_file_sufix = '-mel-labels.csv'\n",
    "mel_directory = r'/Volumes/ThorsHammer/Data Science/data/audio-recognition/mel/'"
   ]
  },
  {
   "cell_type": "code",
   "execution_count": null,
   "metadata": {
    "collapsed": false,
    "deletable": true,
    "editable": true
   },
   "outputs": [],
   "source": [
    "%matplotlib inline\n",
    "import matplotlib.pyplot as plt\n",
    "import seaborn\n",
    "import librosa\n",
    "import librosa.display\n",
    "import os\n",
    "\n",
    "def calc_mel_observation_index(raw_sample_number):\n",
    "    observation_index = int(raw_sample_number / (sample_rate * stride))\n",
    "    return observation_index\n",
    "\n",
    "def plot_mel(data, hop_length):\n",
    "    librosa.display.specshow(data, x_axis='time', sr=sample_rate, y_axis='mel', hop_length=hop_length)\n",
    "\n",
    "    # Put a descriptive title on the plot\n",
    "    plt.title('mel power spectrogram')\n",
    "\n",
    "    # draw a color bar\n",
    "    plt.colorbar(format='%+02.0f dB')\n",
    "\n",
    "    # Make the figure layout compact\n",
    "    plt.tight_layout()\n",
    "    plt.show()\n",
    "\n",
    "import numpy as np\n",
    "# for key in positive_classes:\n",
    "def load_mel_data_rdd(filename):\n",
    "    '''\n",
    "    Load mel data from disk. Data is an array of mel 2d matrices.\n",
    "    We need to iterate the array and reshape each matrix.\n",
    "    Each matrix has dimensions 40 x 401 (there are 40 mel channels for a 4 sec sample).\n",
    "    '''\n",
    "    print('Loading mel data: %s'%filename)\n",
    "\n",
    "    raw_lines_rdd = spark \\\n",
    "        .sparkContext \\\n",
    "        .textFile(filename) \\\n",
    "        .map(lambda line: line.split(',')) \\\n",
    "        .map(lambda v: map(float,v)) \\\n",
    "        .map(lambda v: np.asarray(v).reshape((40,401))) \\\n",
    "        .zipWithIndex() \\\n",
    "        .map(lambda (x,y): (y,x))\n",
    "\n",
    "    return raw_lines_rdd\n",
    "\n",
    "def load_mel_labels_rdd(filename):\n",
    "    print('Loading mel data labels: %s'%filename)\n",
    "    \n",
    "    raw_lines_rdd = spark \\\n",
    "        .sparkContext \\\n",
    "        .textFile(filename) \\\n",
    "        .map(lambda line: int(line)) \\\n",
    "        .zipWithIndex() \\\n",
    "        .map(lambda (x,y): (y,x))\n",
    "        \n",
    "    return raw_lines_rdd\n",
    "\n",
    "def get_mel_for_sample_index(rdd, sample_index) :\n",
    "    return rdd.filter(lambda (x,y): x == calc_mel_observation_index(sample_index)).take(1)[0][1]\n",
    "\n",
    "def get_mel_for_observation_index(rdd, observation_index) :\n",
    "    return rdd.filter(lambda (x,y): x == observation_index).take(1)[0][1]\n",
    "\n",
    "def get_mel_label_for_index(rdd, observation_index):\n",
    "    return rdd.filter(lambda (x,y): x == observation_index).take(1)[0]"
   ]
  },
  {
   "cell_type": "markdown",
   "metadata": {
    "deletable": true,
    "editable": true
   },
   "source": [
    "# Look at the mel spectrograph observations for the positive class\n",
    "Validate that the labeling is correct by visual inspection."
   ]
  },
  {
   "cell_type": "code",
   "execution_count": null,
   "metadata": {
    "collapsed": false,
    "deletable": true,
    "editable": true,
    "scrolled": false
   },
   "outputs": [],
   "source": [
    "def plot_target_mel_boundary_for_filekey(key):\n",
    "    \"\"\"\n",
    "    This function plots the mel spectrograms of the smallest and hightest index for positive target class labels.\n",
    "    \"\"\"\n",
    "    \n",
    "    mel_label_filename = os.path.join(mel_directory,key+label_file_sufix)\n",
    "    mel_data_filename = os.path.join(mel_directory,key+file_sufix)\n",
    "\n",
    "    mel_data_labels = load_mel_labels_rdd(mel_label_filename)\n",
    "    mel_data = load_mel_data_rdd(mel_data_filename)\n",
    "\n",
    "    positive_observations = mel_data.join(mel_data_labels).filter(lambda (idx,(x,y)): y == 1).sortByKey().collect()\n",
    "    \n",
    "    plot_mel(positive_observations[0][1][0],160)\n",
    "    plot_mel(positive_observations[-1][1][0],160)\n",
    "    \n",
    "for key in sorted(positive_classes.keys()):\n",
    "    plot_target_mel_boundary_for_filekey(key)"
   ]
  },
  {
   "cell_type": "markdown",
   "metadata": {
    "deletable": true,
    "editable": true
   },
   "source": [
    "Based on the above plots the labeling seems to be correct."
   ]
  }
 ],
 "metadata": {
  "anaconda-cloud": {},
  "kernelspec": {
   "display_name": "Python [conda env:tensorflow]",
   "language": "python",
   "name": "conda-env-tensorflow-py"
  },
  "language_info": {
   "codemirror_mode": {
    "name": "ipython",
    "version": 2
   },
   "file_extension": ".py",
   "mimetype": "text/x-python",
   "name": "python",
   "nbconvert_exporter": "python",
   "pygments_lexer": "ipython2",
   "version": "2.7.12"
  }
 },
 "nbformat": 4,
 "nbformat_minor": 0
}
