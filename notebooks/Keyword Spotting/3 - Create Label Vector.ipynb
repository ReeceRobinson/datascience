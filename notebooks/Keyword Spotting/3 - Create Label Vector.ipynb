{
 "cells": [
  {
   "cell_type": "markdown",
   "metadata": {
    "deletable": true,
    "editable": true
   },
   "source": [
    "# Create Labels for the Audio Sequences\n",
    "The purpose of this notebook is to generate the target labels for supervised training. This is somewhat manual and the following procedure was used:\n",
    " - open an audio file in [Audacity](http://www.audacityteam.org)\n",
    " - by visual inspection of the waveform locate the start and end samples of the target sequence (verify selection by playing the audio in that range)\n",
    " - using a window of 3.45 seconds (the width of the target sequence in this case) label the time-correlated mel spectrograph observation as class 1, otherwise class 0.\n",
    "\n",
    "The audio file contents are as follows:\n",
    "\n",
    "** Washing Machine **\n",
    "``` \n",
    "File :161225-000\n",
    "Beep Sequence Count: 0\n",
    "\n",
    "File :161225-001\n",
    "Beep Sequence Count: 1\n",
    "Start Sample: 9541250\n",
    "End Sample:  9596500\n",
    "\n",
    "File :161225-002\n",
    "Beep Sequence Count: 1\n",
    "Start Sample: 713600\n",
    "End Sample:  721360\n",
    "\n",
    "File :161225-003\n",
    "Beep Sequence Count: 1\n",
    "Start Sample: 813800\n",
    "End Sample:  869300\n",
    "\n",
    "File :161225-004\n",
    "Beep Sequence Count: 1\n",
    "Start Sample: 808700\n",
    "End Sample:  864000\n",
    "\n",
    "File :161225-005\n",
    "Beep Sequence Count: 1\n",
    "Start Sample: 686400\n",
    "End Sample:  742000\n",
    "```\n",
    "** Dryer **\n",
    "```\n",
    "File :161225-006\n",
    "Beep Sequence Count: 3\n",
    "Start Sample: 201850\n",
    "End Sample: 262330\n",
    "Start Sample: 1156480\n",
    "End Sample:  1212300\n",
    "Start Sample: 2110750\n",
    "End Sample:  2118300\n",
    "```\n",
    "\n",
    "Based on this data we will create the label vector for each mel spectrogram row. \n",
    "\n",
    "**Note:** we need to take into account the sliding 4 second windows with a stride of 10ms."
   ]
  },
  {
   "cell_type": "code",
   "execution_count": 1,
   "metadata": {
    "collapsed": true,
    "deletable": true,
    "editable": true
   },
   "outputs": [],
   "source": [
    "%matplotlib inline\n",
    "import seaborn\n",
    "import numpy as np\n",
    "import scipy\n",
    "import matplotlib.pyplot as plt\n",
    "import pandas as pd\n",
    "import os\n",
    "\n",
    "source_directory = r'/Volumes/ThorsHammer/Data Science/data/audio-recognition/16k/'\n",
    "mel_directory = r'/Volumes/ThorsHammer/Data Science/data/audio-recognition/mel/'\n",
    "stride = 0.01\n",
    "sample_length = 4 #seconds\n",
    "sample_rate = 16000\n",
    "\n",
    "# This following represent the first postive class observation in the data\n",
    "positive_classes = {\n",
    "    '161225-001' : 9541250, # Large file takes too long for me to wait.\n",
    "    '161225-002' : 713600,\n",
    "    '161225-003' : 813800,\n",
    "    '161225-004' : 808700,\n",
    "    '161225-005' : 686400\n",
    "}\n",
    "\n",
    "file_sufix = '.wav-mel.csv'"
   ]
  },
  {
   "cell_type": "markdown",
   "metadata": {
    "deletable": true,
    "editable": true
   },
   "source": [
    "### Helper functions"
   ]
  },
  {
   "cell_type": "code",
   "execution_count": 2,
   "metadata": {
    "collapsed": true,
    "deletable": true,
    "editable": true
   },
   "outputs": [],
   "source": [
    "#Determine the observation index for a given sample numer\n",
    "def calc_mel_observation_index(raw_sample_number):\n",
    "    observation_index = int(raw_sample_number / (sample_rate * stride))\n",
    "    return observation_index\n",
    "\n",
    "def file_len(filename):\n",
    "    with open(filename) as f:\n",
    "        for i, l in enumerate(f):\n",
    "            pass\n",
    "    return i + 1\n",
    "\n",
    "def list_all_files(source_directory, truncate_extension=False, extension='.wav'):\n",
    "    # Find the audio wav files in the source folder\n",
    "    raw_files = []\n",
    "    for file in os.listdir(source_directory):\n",
    "        if file.endswith(extension):\n",
    "            if(truncate_extension):\n",
    "                file = file[:file.rfind('.')]\n",
    "            raw_files.append(file)\n",
    "            #print(raw_files[-1])\n",
    "            \n",
    "    return raw_files\n",
    "\n",
    "def save_labels(destination_directory, prefix, labels):\n",
    "    output_file = '{0}{1}-mel-labels.csv'.format(destination_directory,prefix)\n",
    "    np.savetxt(output_file,labels,delimiter=',', fmt='%1i')\n",
    "    print('Done: %s'%output_file)"
   ]
  },
  {
   "cell_type": "markdown",
   "metadata": {
    "deletable": true,
    "editable": true
   },
   "source": [
    "### Loop through the audio files and generate the corresponding label vector\n",
    "The labels are written to disk."
   ]
  },
  {
   "cell_type": "code",
   "execution_count": 5,
   "metadata": {
    "collapsed": false,
    "deletable": true,
    "editable": true
   },
   "outputs": [
    {
     "name": "stdout",
     "output_type": "stream",
     "text": [
      "161225-000 target absent\n",
      "Done: /Volumes/ThorsHammer/Data Science/data/audio-recognition/mel/161225-000-mel-labels.csv\n",
      "161225-001 contains target\n",
      "Done: /Volumes/ThorsHammer/Data Science/data/audio-recognition/mel/161225-001-mel-labels.csv\n",
      "161225-002 contains target\n",
      "Done: /Volumes/ThorsHammer/Data Science/data/audio-recognition/mel/161225-002-mel-labels.csv\n",
      "161225-003 contains target\n",
      "Done: /Volumes/ThorsHammer/Data Science/data/audio-recognition/mel/161225-003-mel-labels.csv\n",
      "161225-004 contains target\n",
      "Done: /Volumes/ThorsHammer/Data Science/data/audio-recognition/mel/161225-004-mel-labels.csv\n",
      "161225-005 contains target\n",
      "Done: /Volumes/ThorsHammer/Data Science/data/audio-recognition/mel/161225-005-mel-labels.csv\n",
      "161225-006 target absent\n",
      "Done: /Volumes/ThorsHammer/Data Science/data/audio-recognition/mel/161225-006-mel-labels.csv\n",
      "{'161225-006': 15383, '161225-004': 5419, '161225-005': 4684, '161225-002': 4742, '161225-003': 5456, '161225-000': 39038, '161225-001': 60532}\n",
      "CPU times: user 7.03 s, sys: 16.4 s, total: 23.4 s\n",
      "Wall time: 2min 40s\n"
     ]
    }
   ],
   "source": [
    "%%time\n",
    "\n",
    "all_files = list_all_files(source_directory, truncate_extension=True)\n",
    "file_len_dict = {}\n",
    "file_label_dict = {}\n",
    "\n",
    "for file in sorted(all_files):\n",
    "    \n",
    "    filename = os.path.join(mel_directory,file+file_sufix)\n",
    "    num_observations = file_len(filename)\n",
    "    file_len_dict[file] = num_observations\n",
    "\n",
    "    labels = np.zeros(num_observations)\n",
    "    \n",
    "    if(file in positive_classes.keys()):\n",
    "        print('%s contains target'%file)\n",
    "        start_sample = positive_classes[file]\n",
    "        target_class_range_start = calc_mel_observation_index(start_sample - (sample_rate * 0.5))\n",
    "        target_class_range_end = calc_mel_observation_index(start_sample)\n",
    "        labels[target_class_range_start:target_class_range_end] = 1\n",
    "        file_label_dict[file] = labels\n",
    "    else:\n",
    "        print('%s target absent'%file)\n",
    "    save_labels(mel_directory, file, labels)\n",
    "\n",
    "print (file_len_dict)"
   ]
  },
  {
   "cell_type": "code",
   "execution_count": null,
   "metadata": {
    "collapsed": true,
    "deletable": true,
    "editable": true
   },
   "outputs": [],
   "source": []
  }
 ],
 "metadata": {
  "anaconda-cloud": {},
  "kernelspec": {
   "display_name": "Python [conda env:tensorflow]",
   "language": "python",
   "name": "conda-env-tensorflow-py"
  },
  "language_info": {
   "codemirror_mode": {
    "name": "ipython",
    "version": 2
   },
   "file_extension": ".py",
   "mimetype": "text/x-python",
   "name": "python",
   "nbconvert_exporter": "python",
   "pygments_lexer": "ipython2",
   "version": "2.7.12"
  }
 },
 "nbformat": 4,
 "nbformat_minor": 2
}
