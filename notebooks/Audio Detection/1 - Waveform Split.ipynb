{
 "cells": [
  {
   "cell_type": "markdown",
   "metadata": {
    "deletable": true,
    "editable": true
   },
   "source": [
    "# Split the raw recordings for pre-processing\n",
    "\n",
    "Author: Reece Robinson, 2016"
   ]
  },
  {
   "cell_type": "code",
   "execution_count": 3,
   "metadata": {
    "collapsed": true,
    "deletable": true,
    "editable": true
   },
   "outputs": [],
   "source": [
    "%matplotlib inline\n",
    "import seaborn\n",
    "import numpy as np\n",
    "import scipy\n",
    "import matplotlib.pyplot as plt\n",
    "import pandas as pd\n",
    "import librosa\n",
    "import librosa.display\n",
    "import os"
   ]
  },
  {
   "cell_type": "code",
   "execution_count": 4,
   "metadata": {
    "collapsed": false,
    "deletable": true,
    "editable": true
   },
   "outputs": [],
   "source": [
    "source_directory = r'/Volumes/ThorsHammer/Data Science/data/audio-recognition/'\n",
    "destination_directory = r'/Volumes/ThorsHammer/Data Science/data/audio-recognition/parts/'\n",
    "files = ['161225-000_16bit','161225-001_16bit','161225-002_16bit','161225-003_16bit','161225-004_16bit','161225-005_16bit','161225-006_16bit']\n",
    "\n",
    "if not os.path.exists(destination_directory):\n",
    "    os.makedirs(destination_directory)"
   ]
  },
  {
   "cell_type": "code",
   "execution_count": 5,
   "metadata": {
    "collapsed": true,
    "deletable": true,
    "editable": true
   },
   "outputs": [],
   "source": [
    "def split_file(filename):\n",
    "    count = 0\n",
    "    x, sr = librosa.load(source_directory+filename+'.wav', sr=sample_rate)\n",
    "    for offset in np.arange(0,len(x), target_length):\n",
    "        librosa.output.write_wav(destination_directory+'{0}-part-{1}.wav'.format(filename,count),x[offset:offset+target_length], sample_rate)\n",
    "        count = count + 1"
   ]
  },
  {
   "cell_type": "code",
   "execution_count": 6,
   "metadata": {
    "collapsed": false,
    "deletable": true,
    "editable": true
   },
   "outputs": [
    {
     "name": "stdout",
     "output_type": "stream",
     "text": [
      "CPU times: user 10.8 s, sys: 249 ms, total: 11 s\n",
      "Wall time: 11 s\n",
      "CPU times: user 17 s, sys: 335 ms, total: 17.3 s\n",
      "Wall time: 17.4 s\n",
      "CPU times: user 1.45 s, sys: 26.5 ms, total: 1.47 s\n",
      "Wall time: 1.47 s\n",
      "CPU times: user 1.66 s, sys: 31.1 ms, total: 1.69 s\n",
      "Wall time: 1.69 s\n",
      "CPU times: user 1.64 s, sys: 27.3 ms, total: 1.67 s\n",
      "Wall time: 1.67 s\n",
      "CPU times: user 1.42 s, sys: 27.9 ms, total: 1.45 s\n",
      "Wall time: 1.45 s\n",
      "CPU times: user 4.33 s, sys: 82 ms, total: 4.42 s\n",
      "Wall time: 4.42 s\n",
      "CPU times: user 38.3 s, sys: 779 ms, total: 39.1 s\n",
      "Wall time: 39.1 s\n"
     ]
    }
   ],
   "source": [
    "%%time\n",
    "duration = 60 # target sample duration in seconds\n",
    "offset=0 # test location where there is a signal\n",
    "sample_rate=16000\n",
    "file_idx = 0\n",
    "target_length = duration*sample_rate\n",
    "\n",
    "for filename in files:\n",
    "    %%time split_file(filename)"
   ]
  }
 ],
 "metadata": {
  "anaconda-cloud": {},
  "kernelspec": {
   "display_name": "Python [conda root]",
   "language": "python",
   "name": "conda-root-py"
  },
  "language_info": {
   "codemirror_mode": {
    "name": "ipython",
    "version": 2
   },
   "file_extension": ".py",
   "mimetype": "text/x-python",
   "name": "python",
   "nbconvert_exporter": "python",
   "pygments_lexer": "ipython2",
   "version": "2.7.13"
  }
 },
 "nbformat": 4,
 "nbformat_minor": 1
}
