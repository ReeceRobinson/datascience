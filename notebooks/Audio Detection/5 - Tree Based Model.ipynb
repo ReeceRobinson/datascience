{
 "cells": [
  {
   "cell_type": "markdown",
   "metadata": {},
   "source": [
    "# Audio Event Recognition Using Decision Trees\n",
    "\n",
    "The subject Audio Event is a laundry appliance end-of-cycle beep sequence. Audio recordings were made of the appliance in operation including the beep sequence. Most of the recording was of the machine performing its normal function as well as \"room tone\". Room tone includes other household and environmental sounds picked up by the recorder.\n",
    "\n",
    "The purpose of training a model in this notebook is to detect the beep itself and not the time sequence of beeps. That will be looked at in subsequent notebooks.\n",
    "\n",
    "Audio data has been prepared in other notebooks for use in this machine learning training.\n",
    "\n",
    "The audio recordings were resampled to 16kHz, amplitude normalised to within +/- 1.0 peak, divided into one minute segments and a discrete Fast Fourier Transform (FFT) analysis was performed. A sliding window of 150ms was used for FFT observation with a stride of 5ms.\n",
    "\n",
    "This resulted in each observation comprising 2400 features which represent the frequency power level (dB) between 0 and 8kHz."
   ]
  },
  {
   "cell_type": "markdown",
   "metadata": {},
   "source": [
    "# Data File Setup\n",
    "Configure the folder settings and helper function for loading data files."
   ]
  },
  {
   "cell_type": "code",
   "execution_count": 1,
   "metadata": {
    "collapsed": false
   },
   "outputs": [
    {
     "name": "stdout",
     "output_type": "stream",
     "text": [
      "Compressed FFT Files:\n",
      "['161225-000_16bit-part-0.wav-fft.csv.gz'\n",
      " '161225-000_16bit-part-1.wav-fft.csv.gz'\n",
      " '161225-000_16bit-part-2.wav-fft.csv.gz'\n",
      " '161225-000_16bit-part-3.wav-fft.csv.gz'\n",
      " '161225-000_16bit-part-4.wav-fft.csv.gz'\n",
      " '161225-000_16bit-part-5.wav-fft.csv.gz'\n",
      " '161225-000_16bit-part-6.wav-fft.csv.gz'\n",
      " '161225-001_16bit-part-0.wav-fft.csv.gz'\n",
      " '161225-001_16bit-part-1.wav-fft.csv.gz'\n",
      " '161225-001_16bit-part-10.wav-fft.csv.gz'\n",
      " '161225-001_16bit-part-2.wav-fft.csv.gz'\n",
      " '161225-001_16bit-part-3.wav-fft.csv.gz'\n",
      " '161225-001_16bit-part-4.wav-fft.csv.gz'\n",
      " '161225-001_16bit-part-5.wav-fft.csv.gz'\n",
      " '161225-001_16bit-part-6.wav-fft.csv.gz'\n",
      " '161225-001_16bit-part-7.wav-fft.csv.gz'\n",
      " '161225-001_16bit-part-8.wav-fft.csv.gz'\n",
      " '161225-001_16bit-part-9.wav-fft.csv.gz'\n",
      " '161225-002_16bit-part-0.wav-fft.csv.gz'\n",
      " '161225-003_16bit-part-0.wav-fft.csv.gz'\n",
      " '161225-004_16bit-part-0.wav-fft.csv.gz'\n",
      " '161225-005_16bit-part-0.wav-fft.csv.gz'\n",
      " '161225-006_16bit-part-0.wav-fft.csv.gz'\n",
      " '161225-006_16bit-part-1.wav-fft.csv.gz'\n",
      " '161225-006_16bit-part-2.wav-fft.csv.gz']\n",
      "Response Files:\n",
      "['161225-000_16bit-part-0.wav-fft.csv.gz-response.csv'\n",
      " '161225-000_16bit-part-1.wav-fft.csv.gz-response.csv'\n",
      " '161225-000_16bit-part-2.wav-fft.csv.gz-response.csv'\n",
      " '161225-000_16bit-part-3.wav-fft.csv.gz-response.csv'\n",
      " '161225-000_16bit-part-4.wav-fft.csv.gz-response.csv'\n",
      " '161225-000_16bit-part-5.wav-fft.csv.gz-response.csv'\n",
      " '161225-000_16bit-part-6.wav-fft.csv.gz-response.csv'\n",
      " '161225-001_16bit-part-0.wav-fft.csv.gz-response.csv'\n",
      " '161225-001_16bit-part-1.wav-fft.csv.gz-response.csv'\n",
      " '161225-001_16bit-part-10.wav-fft.csv.gz-response.csv'\n",
      " '161225-001_16bit-part-2.wav-fft.csv.gz-response.csv'\n",
      " '161225-001_16bit-part-3.wav-fft.csv.gz-response.csv'\n",
      " '161225-001_16bit-part-4.wav-fft.csv.gz-response.csv'\n",
      " '161225-001_16bit-part-5.wav-fft.csv.gz-response.csv'\n",
      " '161225-001_16bit-part-6.wav-fft.csv.gz-response.csv'\n",
      " '161225-001_16bit-part-7.wav-fft.csv.gz-response.csv'\n",
      " '161225-001_16bit-part-8.wav-fft.csv.gz-response.csv'\n",
      " '161225-001_16bit-part-9.wav-fft.csv.gz-response.csv'\n",
      " '161225-002_16bit-part-0.wav-fft.csv.gz-response.csv'\n",
      " '161225-003_16bit-part-0.wav-fft.csv.gz-response.csv'\n",
      " '161225-004_16bit-part-0.wav-fft.csv.gz-response.csv'\n",
      " '161225-005_16bit-part-0.wav-fft.csv.gz-response.csv'\n",
      " '161225-006_16bit-part-0.wav-fft.csv.gz-response.csv'\n",
      " '161225-006_16bit-part-1.wav-fft.csv.gz-response.csv'\n",
      " '161225-006_16bit-part-2.wav-fft.csv.gz-response.csv']\n"
     ]
    }
   ],
   "source": [
    "from __future__ import print_function\n",
    "import os\n",
    "import sys\n",
    "import numpy as np\n",
    "import pandas as pd\n",
    "\n",
    "from os.path import isfile, join\n",
    "\n",
    "wav_directory = r'/Volumes/ThorsHammer/Data Science/data/audio-recognition/parts/'\n",
    "fft_directory = r'/Volumes/ThorsHammer/Data Science/data/audio-recognition/fft/'\n",
    "\n",
    "def list_files(base_dir, ext):\n",
    "    onlyfiles = [f for f in os.listdir(base_dir) if isfile(join(base_dir, f)) and f.split('.')[-1] == ext]\n",
    "    return np.sort(onlyfiles)\n",
    "\n",
    "print('Compressed FFT Files:')\n",
    "fft_compressed_files = list_files(fft_directory,'gz')\n",
    "print(fft_compressed_files)\n",
    "\n",
    "print('Response Files:')\n",
    "fft_response_files = list_files(fft_directory,'csv')\n",
    "print(fft_response_files)"
   ]
  },
  {
   "cell_type": "markdown",
   "metadata": {},
   "source": [
    "# Read Training Data Set\n",
    "Use file `161225-001_16bit-part-9.wav` as the example which contains a beep sequence at the end with general washing machine and room noise elsewhere."
   ]
  },
  {
   "cell_type": "code",
   "execution_count": 2,
   "metadata": {
    "collapsed": false
   },
   "outputs": [
    {
     "name": "stdout",
     "output_type": "stream",
     "text": [
      "           0          1          2         3          4         5         6  \\\n",
      "0  26.209188  21.623608 -10.358844  6.586753  -7.028095  1.600575 -2.595378   \n",
      "1  26.235340  21.709356  -9.568472  6.962870 -13.328078  2.581967 -9.131612   \n",
      "2  26.278463  21.769438  -9.452969  6.770949 -39.410057 -4.097223  1.389082   \n",
      "3  26.309322  21.846579  -9.775924  5.997091 -23.744251 -7.712294  1.630375   \n",
      "4  26.332802  21.924908 -11.068607  5.241501 -25.522110  0.960066 -5.601819   \n",
      "\n",
      "          7         8         9    ...           2390       2391       2392  \\\n",
      "0  6.081511  3.267589  2.665153    ...     -80.474724 -56.087372 -67.076408   \n",
      "1  7.777575 -4.011588  3.869437    ...     -66.687279 -61.855881 -57.571312   \n",
      "2  0.777063  7.331400 -0.322932    ...     -61.135799 -71.700638 -56.820793   \n",
      "3  1.119996  7.259189 -7.944921    ...     -69.064392 -59.416782 -61.496887   \n",
      "4  7.842555 -6.098834  6.155301    ...     -63.785179 -58.053242 -86.751587   \n",
      "\n",
      "        2393       2394       2395       2396       2397       2398       2399  \n",
      "0 -55.660095 -77.874947 -60.734810 -66.410446 -56.357178 -62.464291 -52.311119  \n",
      "1 -59.016644 -58.899113 -61.556984 -84.727264 -55.298313 -63.316269 -51.679031  \n",
      "2 -83.508690 -56.303261 -65.066025 -75.534821 -54.591537 -64.611176 -51.079929  \n",
      "3 -60.440609 -58.731457 -72.486740 -78.849319 -53.997822 -66.378136 -50.636837  \n",
      "4 -56.689003 -72.753792 -82.393570 -75.887779 -53.494034 -68.940468 -50.341873  \n",
      "\n",
      "[5 rows x 2400 columns]\n",
      "0    0\n",
      "1    0\n",
      "2    0\n",
      "3    0\n",
      "4    0\n",
      "Name: response, dtype: int64\n"
     ]
    }
   ],
   "source": [
    "fft_compressed_file = fft_directory+'161225-001_16bit-part-9.wav-fft.csv.gz'\n",
    "fft_response_file = fft_directory+'161225-001_16bit-part-9.wav-fft.csv.gz-response.csv'\n",
    "\n",
    "# Load data as Pandas DataFrames\n",
    "fft_data = pd.read_csv(fft_compressed_file).astype(np.float32)\n",
    "fft_response = pd.read_csv(fft_response_file).astype(np.int)['response']\n",
    "\n",
    "print(fft_data.head())\n",
    "print(fft_response.head())"
   ]
  },
  {
   "cell_type": "code",
   "execution_count": 3,
   "metadata": {
    "collapsed": false
   },
   "outputs": [
    {
     "data": {
      "text/plain": [
       "(11970, 2400)"
      ]
     },
     "execution_count": 3,
     "metadata": {},
     "output_type": "execute_result"
    }
   ],
   "source": [
    "# Output the shape of the FFT DataFrame. Each observation contains 2400 frequency dB power levels up to 8kHz\n",
    "fft_data.shape"
   ]
  },
  {
   "cell_type": "code",
   "execution_count": 4,
   "metadata": {
    "collapsed": false
   },
   "outputs": [
    {
     "data": {
      "text/plain": [
       "0    11515\n",
       "1      455\n",
       "Name: response, dtype: int64"
      ]
     },
     "execution_count": 4,
     "metadata": {},
     "output_type": "execute_result"
    }
   ],
   "source": [
    "# The response counts for observation labels\n",
    "fft_response.value_counts()"
   ]
  },
  {
   "cell_type": "markdown",
   "metadata": {},
   "source": [
    "# Helper Functions"
   ]
  },
  {
   "cell_type": "code",
   "execution_count": 5,
   "metadata": {
    "collapsed": false
   },
   "outputs": [],
   "source": [
    "import numpy as np\n",
    "import pandas as pd\n",
    "from sklearn import metrics\n",
    "from sklearn.model_selection import StratifiedKFold, cross_val_score\n",
    "\n",
    "# cross validate a dataset\n",
    "def cross_validate(features, target, classifier, numfolds=10, numrepeats=1):\n",
    "    auc = [None] * (numfolds * numrepeats)\n",
    "    logloss = [None] * (numfolds * numrepeats)\n",
    "    seed = 1\n",
    "\n",
    "    for r in range(numrepeats):\n",
    "        seed = seed + 1\n",
    "        offset = numfolds * (r - 1)\n",
    "        kfold = StratifiedKFold(n_splits=numfolds, shuffle=True, random_state=seed)\n",
    "    \n",
    "        for i, (train_indices, test_indices) in enumerate(kfold.split(features,target)):\n",
    "            classifier.fit(features.iloc[train_indices], target.iloc[train_indices])\n",
    "            probabilities = classifier.predict_proba(features.iloc[test_indices])\n",
    "            auc[i+offset] = metrics.roc_auc_score(target.iloc[test_indices], probabilities[:, 1])\n",
    "            logloss[i+offset] = metrics.log_loss(target.iloc[test_indices], probabilities[:, 1])\n",
    "        \n",
    "    mean_auc = np.mean(auc)\n",
    "    std_auc = np.std(auc)\n",
    "    mean_logloss = np.mean(logloss)\n",
    "    std_logloss = np.std(logloss)\n",
    "\n",
    "    return mean_auc, std_auc, mean_logloss, std_logloss\n",
    "\n",
    "# print the metrics from the outcome of a ML prediction\n",
    "def print_metrics(target, predictions, probabilities):\n",
    "    print(metrics.classification_report(target, predictions))\n",
    "    print ('Logloss: {}'.format(metrics.log_loss(target, probabilities)))\n",
    "    print (\"AUC from ROC: {}\".format(metrics.roc_auc_score(target, probabilities)))\n",
    "    print (\"\\nConfusion matrix: \")\n",
    "    print (metrics.confusion_matrix(target, predictions))\n",
    "    \n",
    "def plotROC(y_test, probabilities, title='Decision Tree'):\n",
    "    %matplotlib inline\n",
    "    import matplotlib.pyplot as plt\n",
    "    import matplotlib\n",
    "    from sklearn import metrics\n",
    "\n",
    "    false_positive_rate, true_positive_rate, thresholds = metrics.roc_curve(y_test, probabilities[:,1])\n",
    "    roc_auc = metrics.auc(false_positive_rate, true_positive_rate)\n",
    "\n",
    "    plt.figure()\n",
    "    plt.title('Receiver Operating Characteristics for %s'%title)\n",
    "    plt.plot(false_positive_rate, true_positive_rate, label='ROC curve (area = %0.2f)' % roc_auc)\n",
    "    plt.plot([0,1],[0,1],'r--')\n",
    "    plt.xlim([0.0, 1.0])\n",
    "    plt.ylim([0.0, 1.0])\n",
    "    plt.ylabel('True Positive Rate')\n",
    "    plt.xlabel('False Positive Rate')\n",
    "    plt.legend(loc=\"lower right\")\n",
    "    plt.show()\n",
    "    \n",
    "import matplotlib.pyplot as plt\n",
    "import seaborn as sns\n",
    "from sklearn.model_selection import StratifiedKFold\n",
    "from sklearn.model_selection import learning_curve\n",
    "def plot_learning_curve(estimator, title, X, y, ylim=None, cv=None,\n",
    "                        n_jobs=1, train_sizes=np.linspace(.1, 1.0, 5)):\n",
    "    \"\"\"\n",
    "    Generate a simple plot of the test and training learning curve.\n",
    "\n",
    "    Parameters\n",
    "    ----------\n",
    "    estimator : object type that implements the \"fit\" and \"predict\" methods\n",
    "        An object of that type which is cloned for each validation.\n",
    "\n",
    "    title : string\n",
    "        Title for the chart.\n",
    "\n",
    "    X : array-like, shape (n_samples, n_features)\n",
    "        Training vector, where n_samples is the number of samples and\n",
    "        n_features is the number of features.\n",
    "\n",
    "    y : array-like, shape (n_samples) or (n_samples, n_features), optional\n",
    "        Target relative to X for classification or regression;\n",
    "        None for unsupervised learning.\n",
    "\n",
    "    ylim : tuple, shape (ymin, ymax), optional\n",
    "        Defines minimum and maximum yvalues plotted.\n",
    "\n",
    "    cv : int, cross-validation generator or an iterable, optional\n",
    "        Determines the cross-validation splitting strategy.\n",
    "        Possible inputs for cv are:\n",
    "          - None, to use the default 3-fold cross-validation,\n",
    "          - integer, to specify the number of folds.\n",
    "          - An object to be used as a cross-validation generator.\n",
    "          - An iterable yielding train/test splits.\n",
    "\n",
    "        For integer/None inputs, if ``y`` is binary or multiclass,\n",
    "        :class:`StratifiedKFold` used. If the estimator is not a classifier\n",
    "        or if ``y`` is neither binary nor multiclass, :class:`KFold` is used.\n",
    "\n",
    "        Refer :ref:`User Guide <cross_validation>` for the various\n",
    "        cross-validators that can be used here.\n",
    "\n",
    "    n_jobs : integer, optional\n",
    "        Number of jobs to run in parallel (default 1).\n",
    "    \"\"\"\n",
    "    plt.figure()\n",
    "    plt.title(title)\n",
    "    if ylim is not None:\n",
    "        plt.ylim(*ylim)\n",
    "    plt.xlabel(\"Training examples\")\n",
    "    plt.ylabel(\"Score\")\n",
    "    train_sizes, train_scores, test_scores = learning_curve(\n",
    "        estimator, X, y, cv=cv, n_jobs=n_jobs, train_sizes=train_sizes)\n",
    "    train_scores_mean = np.mean(train_scores, axis=1)\n",
    "    train_scores_std = np.std(train_scores, axis=1)\n",
    "    test_scores_mean = np.mean(test_scores, axis=1)\n",
    "    test_scores_std = np.std(test_scores, axis=1)\n",
    "    plt.grid()\n",
    "\n",
    "    plt.fill_between(train_sizes, train_scores_mean - train_scores_std,\n",
    "                     train_scores_mean + train_scores_std, alpha=0.1,\n",
    "                     color=\"r\")\n",
    "    plt.fill_between(train_sizes, test_scores_mean - test_scores_std,\n",
    "                     test_scores_mean + test_scores_std, alpha=0.1, color=\"g\")\n",
    "    plt.plot(train_sizes, train_scores_mean, 'o-', color=\"r\",\n",
    "             label=\"Training score\")\n",
    "    plt.plot(train_sizes, test_scores_mean, 'o-', color=\"g\",\n",
    "             label=\"Cross-validation score\")\n",
    "\n",
    "    plt.legend(loc=\"best\")\n",
    "    return plt\n",
    "\n",
    "def plot_estimator_learning_curve(estimator, title='Learning Curve', ylim=(0.5, 1.01)):\n",
    "    seed=1\n",
    "    kfold = StratifiedKFold(n_splits=10, shuffle=True, random_state=seed)\n",
    "    plot_learning_curve(estimator, title, X_train, y_train, ylim=ylim, cv=kfold, n_jobs=-1)\n",
    "    plt.show()\n",
    "    \n",
    "def evaluate(classifier, features, target):\n",
    "    probabilities = classifier.predict_proba(features)\n",
    "    auc = metrics.roc_auc_score(target, probabilities[:, 1])\n",
    "    logloss = metrics.log_loss(target, probabilities[:, 1])\n",
    "    return (auc,logloss)"
   ]
  },
  {
   "cell_type": "markdown",
   "metadata": {},
   "source": [
    "# Classifier"
   ]
  },
  {
   "cell_type": "code",
   "execution_count": 6,
   "metadata": {
    "collapsed": false
   },
   "outputs": [
    {
     "name": "stdout",
     "output_type": "stream",
     "text": [
      "CPU times: user 72.3 ms, sys: 28 ms, total: 100 ms\n",
      "Wall time: 99.4 ms\n"
     ]
    }
   ],
   "source": [
    "%%time\n",
    "from sklearn import metrics\n",
    "from sklearn.model_selection import StratifiedKFold\n",
    "# 1/3 of the data is used for validation\n",
    "from sklearn.model_selection import train_test_split\n",
    "X_train, X_test, y_train, y_test = train_test_split(fft_data, fft_response, test_size=0.33, random_state=42)\n",
    "\n",
    "# fix random seed for reproducibility\n",
    "seed = 1337\n",
    "np.random.seed(seed)  # for reproducibility"
   ]
  },
  {
   "cell_type": "code",
   "execution_count": 7,
   "metadata": {
    "collapsed": false
   },
   "outputs": [
    {
     "name": "stdout",
     "output_type": "stream",
     "text": [
      "GNBayes: AUC = 0.999974889927 +/- 4.73514742479e-05  Logloss = 0.0450314563527 +/- 0.0427941991014\n",
      "Trees: AUC = 0.967910103202 +/- 0.0256364567155  Logloss = 0.0361627120973 +/- 0.0281588805616\n",
      "Bagging: AUC = 0.999987444964 +/- 2.80732708579e-05  Logloss = 0.0105103988517 +/- 0.00173350349926\n",
      "Random Forest: AUC = 1.0 +/- 4.4408920985e-17  Logloss = 0.00367571526425 +/- 0.000942336978654\n",
      "Gradient Boosted Trees: AUC = 0.999990789931 +/- 2.68625800034e-05  Logloss = 0.00209682145927 +/- 0.00391535111441\n",
      "xgboost: AUC = 0.999999162128 +/- 5.86510263929e-06  Logloss = 0.000850091661036 +/- 0.000714982325454\n",
      "CPU times: user 1h 52min 48s, sys: 1min 20s, total: 1h 54min 9s\n",
      "Wall time: 1h 54min 14s\n"
     ]
    }
   ],
   "source": [
    "%%time\n",
    "#naive bayes\n",
    "from sklearn.naive_bayes import GaussianNB\n",
    "gnb = GaussianNB()\n",
    "print (\"GNBayes: AUC = {0} +/- {1}  Logloss = {2} +/- {3}\".format(*cross_validate(X_train, y_train, gnb, numfolds=10, numrepeats=5)))\n",
    "\n",
    "#trees\n",
    "from sklearn import tree\n",
    "atree = tree.DecisionTreeClassifier(min_samples_leaf=25, max_depth=3, max_features='auto')\n",
    "print (\"Trees: AUC = {0} +/- {1}  Logloss = {2} +/- {3}\".format(*cross_validate(X_train, y_train, atree, numfolds=10, numrepeats=5)))\n",
    "\n",
    "#bagging\n",
    "from sklearn.ensemble import BaggingClassifier\n",
    "base_tree_params = {'max_features': 'auto', 'splitter': 'best', 'criterion': 'gini', 'max_depth': 3, 'min_samples_leaf': 10}\n",
    "bagging = BaggingClassifier(tree.DecisionTreeClassifier(**base_tree_params),n_estimators=100, max_features= 0.5, max_samples = 1.0, bootstrap = False, random_state=1)\n",
    "print (\"Bagging: AUC = {0} +/- {1}  Logloss = {2} +/- {3}\".format(*cross_validate(X_train, y_train, bagging, numfolds=10, numrepeats=5)))\n",
    "\n",
    "#random forest\n",
    "from sklearn.ensemble import RandomForestClassifier\n",
    "randomforest = RandomForestClassifier(n_estimators=100)\n",
    "print (\"Random Forest: AUC = {0} +/- {1}  Logloss = {2} +/- {3}\".format(*cross_validate(X_train, y_train, randomforest, numfolds=10, numrepeats=5)))\n",
    "\n",
    "#gradient booster\n",
    "from sklearn.ensemble import GradientBoostingClassifier\n",
    "gbc = GradientBoostingClassifier(n_estimators=100, learning_rate=0.1, max_depth=2, random_state=0)\n",
    "print (\"Gradient Boosted Trees: AUC = {0} +/- {1}  Logloss = {2} +/- {3}\".format(*cross_validate(X_train, y_train, gbc, numfolds=10, numrepeats=5)))\n",
    "\n",
    "#xgboost\n",
    "import xgboost as xgb\n",
    "xgbooster = xgb.XGBClassifier(seed=1)\n",
    "print (\"xgboost: AUC = {0} +/- {1}  Logloss = {2} +/- {3}\".format(*cross_validate(X_train, y_train, xgbooster, numfolds=10, numrepeats=5)))"
   ]
  },
  {
   "cell_type": "code",
   "execution_count": 8,
   "metadata": {
    "collapsed": false
   },
   "outputs": [
    {
     "name": "stdout",
     "output_type": "stream",
     "text": [
      "Random Forest: AUC = 0.999995816075 +/- 1.25517760763e-05  Logloss = 0.00351587626748 +/- 0.00110980340466\n"
     ]
    },
    {
     "data": {
      "image/png": "[encoded data removed]",
      "text/plain": [
       "<matplotlib.figure.Figure at 0x11f3916d0>"
      ]
     },
     "metadata": {},
     "output_type": "display_data"
    },
    {
     "name": "stdout",
     "output_type": "stream",
     "text": [
      "CPU times: user 2min 11s, sys: 573 ms, total: 2min 11s\n",
      "Wall time: 2min 56s\n"
     ]
    }
   ],
   "source": [
    "%%time\n",
    "#random forest\n",
    "from sklearn.ensemble import RandomForestClassifier\n",
    "randomforest = RandomForestClassifier(n_estimators=100)\n",
    "print (\"Random Forest: AUC = {0} +/- {1}  Logloss = {2} +/- {3}\".format(*cross_validate(X_train, y_train, randomforest, numfolds=10, numrepeats=1)))\n",
    "\n",
    "plot_estimator_learning_curve(randomforest,\"Random Forest Classifier Learning Curves\")"
   ]
  },
  {
   "cell_type": "code",
   "execution_count": 9,
   "metadata": {
    "collapsed": false
   },
   "outputs": [
    {
     "name": "stdout",
     "output_type": "stream",
     "text": [
      "Gradient Boosted Trees: AUC = 0.999924689344 +/- 0.000219047573118  Logloss = 0.0274081501606 +/- 0.00212172178198\n"
     ]
    },
    {
     "data": {
      "image/png": "[encoded data removed]",
      "text/plain": [
       "<matplotlib.figure.Figure at 0x11f3e5890>"
      ]
     },
     "metadata": {},
     "output_type": "display_data"
    },
    {
     "name": "stdout",
     "output_type": "stream",
     "text": [
      "CPU times: user 1min 34s, sys: 999 ms, total: 1min 35s\n",
      "Wall time: 2min 12s\n"
     ]
    }
   ],
   "source": [
    "%%time\n",
    "from sklearn.ensemble import GradientBoostingClassifier\n",
    "gbc = GradientBoostingClassifier(n_estimators=10, learning_rate=0.1, max_depth=2, random_state=0)\n",
    "print(\"Gradient Boosted Trees: AUC = {0} +/- {1}  Logloss = {2} +/- {3}\".format(*cross_validate(X_train, y_train, gbc, numfolds=10, numrepeats=1)))\n",
    "\n",
    "plot_estimator_learning_curve(gbc,\"Gradient Boosting Tree Classifier Learning Curves\")"
   ]
  },
  {
   "cell_type": "markdown",
   "metadata": {},
   "source": [
    "### Results\n",
    "The model appears to have learned the features in the data that enable it to detect the objective audio event with **almost 100% accuracy**.\n",
    "\n",
    "Next possible step may be to see if simplifying the layers will still provide a similar result."
   ]
  },
  {
   "cell_type": "markdown",
   "metadata": {},
   "source": [
    "# Test on an Unseen Data Set\n",
    "The ```161225-002_16bit-part-0.wav-fft.csv``` data was not used in the training or validation of the model. This data containes positive and negative labels."
   ]
  },
  {
   "cell_type": "code",
   "execution_count": 13,
   "metadata": {
    "collapsed": false
   },
   "outputs": [
    {
     "name": "stdout",
     "output_type": "stream",
     "text": [
      "Test Accuracy: 0.998732078416\n",
      "Test AUC: 0.997790084992\n",
      "Test logloss: 0.0300125571039\n"
     ]
    },
    {
     "data": {
      "image/png": "[encoded data removed]",
      "text/plain": [
       "<matplotlib.figure.Figure at 0x11f7d2450>"
      ]
     },
     "metadata": {},
     "output_type": "display_data"
    }
   ],
   "source": [
    "# fft_compressed_file = fft_directory+'161225-001_16bit-part-9.wav-fft.csv.gz'\n",
    "# fft_response_file = fft_directory+'161225-001_16bit-part-9.wav-fft.csv.gz-response.csv'\n",
    "\n",
    "fft_compressed_file = fft_directory+'161225-002_16bit-part-0.wav-fft.csv.gz'\n",
    "fft_response_file = fft_directory+'161225-002_16bit-part-0.wav-fft.csv.gz-response.csv'\n",
    "\n",
    "fft_data = pd.read_csv(fft_compressed_file).astype(np.float32)\n",
    "fft_response = pd.read_csv(fft_response_file).astype(np.int)['response']\n",
    "\n",
    "X = pd.DataFrame(fft_data)\n",
    "y_pred = gbc.predict(X)\n",
    "probabilities = gbc.predict_proba(X)\n",
    "score = metrics.accuracy_score(y_true=fft_response, y_pred=y_pred)\n",
    "print('Test Accuracy:', score)\n",
    "\n",
    "score = evaluate(gbc, X, fft_response)\n",
    "print('Test AUC:', score[0])\n",
    "print('Test logloss:', score[1])\n",
    "\n",
    "plotROC(y_pred, probabilities=probabilities, title='XGBoost Naive Bayes Classifier')"
   ]
  },
  {
   "cell_type": "markdown",
   "metadata": {},
   "source": [
    "### Results\n",
    "The model has performed very well on this unseen data set giving similar accuracy obtained during training."
   ]
  },
  {
   "cell_type": "markdown",
   "metadata": {},
   "source": [
    "# Test on an Unseen Data Set with All Negative Labels\n",
    "The ```161225-000_16bit-part-0.wav-fft.csv``` data was not used in training the model and all observations have negative response labels."
   ]
  },
  {
   "cell_type": "code",
   "execution_count": 14,
   "metadata": {
    "collapsed": false
   },
   "outputs": [
    {
     "name": "stdout",
     "output_type": "stream",
     "text": [
      "Test Accuracy: 1.0\n"
     ]
    }
   ],
   "source": [
    "fft_compressed_file = fft_directory+'161225-000_16bit-part-0.wav-fft.csv.gz'\n",
    "fft_response_file = fft_directory+'161225-000_16bit-part-0.wav-fft.csv.gz-response.csv'\n",
    "\n",
    "fft_data = pd.read_csv(fft_compressed_file).astype(np.float32)\n",
    "fft_response = pd.read_csv(fft_response_file).astype(np.int)['response']\n",
    "\n",
    "X = pd.DataFrame(fft_data)\n",
    "y_pred = gbc.predict(X)\n",
    "probabilities = gbc.predict_proba(X)\n",
    "score = metrics.accuracy_score(y_true=fft_response, y_pred=y_pred)\n",
    "print('Test Accuracy:', score)"
   ]
  },
  {
   "cell_type": "markdown",
   "metadata": {},
   "source": [
    "### Results\n",
    "The model has performed very well on this unseen data set with **100% accuracy**."
   ]
  },
  {
   "cell_type": "markdown",
   "metadata": {},
   "source": [
    "# Utility for Loading a Saved Model"
   ]
  },
  {
   "cell_type": "code",
   "execution_count": 12,
   "metadata": {
    "collapsed": false
   },
   "outputs": [
    {
     "ename": "ImportError",
     "evalue": "No module named keras.models",
     "output_type": "error",
     "traceback": [
      "\u001b[0;31m---------------------------------------------------------------------------\u001b[0m",
      "\u001b[0;31mImportError\u001b[0m                               Traceback (most recent call last)",
      "\u001b[0;32m<ipython-input-12-afbea5ccb111>\u001b[0m in \u001b[0;36m<module>\u001b[0;34m()\u001b[0m\n\u001b[0;32m----> 1\u001b[0;31m \u001b[0;32mfrom\u001b[0m \u001b[0mkeras\u001b[0m\u001b[0;34m.\u001b[0m\u001b[0mmodels\u001b[0m \u001b[0;32mimport\u001b[0m \u001b[0mload_model\u001b[0m\u001b[0;34m\u001b[0m\u001b[0m\n\u001b[0m\u001b[1;32m      2\u001b[0m \u001b[0;32mimport\u001b[0m \u001b[0mtensorflow\u001b[0m \u001b[0;32mas\u001b[0m \u001b[0mtf\u001b[0m\u001b[0;34m\u001b[0m\u001b[0m\n\u001b[1;32m      3\u001b[0m \u001b[0mtf\u001b[0m\u001b[0;34m.\u001b[0m\u001b[0mpython\u001b[0m\u001b[0;34m.\u001b[0m\u001b[0mcontrol_flow_ops\u001b[0m \u001b[0;34m=\u001b[0m \u001b[0mtf\u001b[0m\u001b[0;34m\u001b[0m\u001b[0m\n\u001b[1;32m      4\u001b[0m \u001b[0;34m\u001b[0m\u001b[0m\n\u001b[1;32m      5\u001b[0m \u001b[0;31m# model.save('my_model.h5')  # creates a HDF5 file 'my_model.h5'\u001b[0m\u001b[0;34m\u001b[0m\u001b[0;34m\u001b[0m\u001b[0m\n",
      "\u001b[0;31mImportError\u001b[0m: No module named keras.models"
     ]
    }
   ],
   "source": [
    "from keras.models import load_model\n",
    "import tensorflow as tf\n",
    "tf.python.control_flow_ops = tf\n",
    "\n",
    "# model.save('my_model.h5')  # creates a HDF5 file 'my_model.h5'\n",
    "# del model  # deletes the existing model\n",
    "\n",
    "# returns a compiled model\n",
    "# identical to the previous one\n",
    "model = load_model('audio_detection.h5')"
   ]
  }
 ],
 "metadata": {
  "anaconda-cloud": {},
  "kernelspec": {
   "display_name": "Python [conda root]",
   "language": "python",
   "name": "conda-root-py"
  },
  "language_info": {
   "codemirror_mode": {
    "name": "ipython",
    "version": 2
   },
   "file_extension": ".py",
   "mimetype": "text/x-python",
   "name": "python",
   "nbconvert_exporter": "python",
   "pygments_lexer": "ipython2",
   "version": "2.7.12"
  }
 },
 "nbformat": 4,
 "nbformat_minor": 1
}
