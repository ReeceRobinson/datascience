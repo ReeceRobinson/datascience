{
 "cells": [
  {
   "cell_type": "markdown",
   "metadata": {},
   "source": [
    "# Auto Labeling\n",
    "This notebook reads the computed fft results for each part and generates the response dataframe for use with machine learning."
   ]
  },
  {
   "cell_type": "code",
   "execution_count": 2,
   "metadata": {
    "collapsed": true
   },
   "outputs": [],
   "source": [
    "%matplotlib inline\n",
    "import seaborn as sns\n",
    "import numpy as np\n",
    "import scipy\n",
    "import matplotlib.pyplot as plt\n",
    "import pandas as pd\n",
    "import librosa\n",
    "import os\n",
    "import sys"
   ]
  },
  {
   "cell_type": "code",
   "execution_count": 3,
   "metadata": {
    "collapsed": true
   },
   "outputs": [],
   "source": [
    "wav_directory = r'/Volumes/ThorsHammer/Data Science/data/audio-recognition/parts/'\n",
    "fft_directory = r'/Volumes/ThorsHammer/Data Science/data/audio-recognition/fft/'\n",
    "pos_response_sample_directory = r'/Volumes/ThorsHammer/Data Science/data/audio-recognitiont/pos-response-samples/'\n",
    "\n",
    "if not os.path.exists(pos_response_sample_directory):\n",
    "    os.makedirs(pos_response_sample_directory)"
   ]
  },
  {
   "cell_type": "code",
   "execution_count": 4,
   "metadata": {
    "collapsed": true
   },
   "outputs": [],
   "source": [
    "duration = 0.15 # window length in seconds\n",
    "sample_rate = 16000\n",
    "sample_size = 2400 # 150 ms window size\n",
    "stride = 80 # sliding 5 ms window increments"
   ]
  },
  {
   "cell_type": "code",
   "execution_count": 5,
   "metadata": {
    "collapsed": false
   },
   "outputs": [
    {
     "name": "stdout",
     "output_type": "stream",
     "text": [
      "['161225-000_16bit-part-0.wav' '161225-000_16bit-part-1.wav'\n",
      " '161225-000_16bit-part-2.wav' '161225-000_16bit-part-3.wav'\n",
      " '161225-000_16bit-part-4.wav' '161225-000_16bit-part-5.wav'\n",
      " '161225-000_16bit-part-6.wav' '161225-001_16bit-part-0.wav'\n",
      " '161225-001_16bit-part-1.wav' '161225-001_16bit-part-10.wav'\n",
      " '161225-001_16bit-part-2.wav' '161225-001_16bit-part-3.wav'\n",
      " '161225-001_16bit-part-4.wav' '161225-001_16bit-part-5.wav'\n",
      " '161225-001_16bit-part-6.wav' '161225-001_16bit-part-7.wav'\n",
      " '161225-001_16bit-part-8.wav' '161225-001_16bit-part-9.wav'\n",
      " '161225-002_16bit-part-0.wav' '161225-003_16bit-part-0.wav'\n",
      " '161225-004_16bit-part-0.wav' '161225-005_16bit-part-0.wav'\n",
      " '161225-006_16bit-part-0.wav' '161225-006_16bit-part-1.wav'\n",
      " '161225-006_16bit-part-2.wav']\n"
     ]
    }
   ],
   "source": [
    "from os.path import isfile, join\n",
    "\n",
    "def list_files(base_dir, ext):\n",
    "    onlyfiles = [f for f in os.listdir(base_dir) if isfile(join(base_dir, f)) and f.split('.')[-1] == ext]\n",
    "    return np.sort(onlyfiles)\n",
    "\n",
    "wav_files = list_files(wav_directory,'wav')\n",
    "# Only the following file parts contain the desired signal\n",
    "pos_wav_files = ['161225-001_16bit-part-9.wav','161225-002_16bit-part-0.wav','161225-003_16bit-part-0.wav','161225-004_16bit-part-0.wav','161225-005_16bit-part-0.wav','161225-006_16bit-part-0.wav','161225-006_16bit-part-1.wav','161225-006_16bit-part-2.wav']\n",
    "\n",
    "print(wav_files)"
   ]
  },
  {
   "cell_type": "code",
   "execution_count": 6,
   "metadata": {
    "collapsed": false
   },
   "outputs": [
    {
     "name": "stdout",
     "output_type": "stream",
     "text": [
      "['161225-000_16bit-part-0.wav-fft.csv.gz'\n",
      " '161225-000_16bit-part-1.wav-fft.csv.gz'\n",
      " '161225-000_16bit-part-2.wav-fft.csv.gz'\n",
      " '161225-000_16bit-part-3.wav-fft.csv.gz'\n",
      " '161225-000_16bit-part-4.wav-fft.csv.gz'\n",
      " '161225-000_16bit-part-5.wav-fft.csv.gz'\n",
      " '161225-000_16bit-part-6.wav-fft.csv.gz'\n",
      " '161225-001_16bit-part-0.wav-fft.csv.gz'\n",
      " '161225-001_16bit-part-1.wav-fft.csv.gz'\n",
      " '161225-001_16bit-part-10.wav-fft.csv.gz'\n",
      " '161225-001_16bit-part-2.wav-fft.csv.gz'\n",
      " '161225-001_16bit-part-3.wav-fft.csv.gz'\n",
      " '161225-001_16bit-part-4.wav-fft.csv.gz'\n",
      " '161225-001_16bit-part-5.wav-fft.csv.gz'\n",
      " '161225-001_16bit-part-6.wav-fft.csv.gz'\n",
      " '161225-001_16bit-part-7.wav-fft.csv.gz'\n",
      " '161225-001_16bit-part-8.wav-fft.csv.gz'\n",
      " '161225-001_16bit-part-9.wav-fft.csv.gz'\n",
      " '161225-002_16bit-part-0.wav-fft.csv.gz'\n",
      " '161225-003_16bit-part-0.wav-fft.csv.gz'\n",
      " '161225-004_16bit-part-0.wav-fft.csv.gz'\n",
      " '161225-005_16bit-part-0.wav-fft.csv.gz'\n",
      " '161225-006_16bit-part-0.wav-fft.csv.gz'\n",
      " '161225-006_16bit-part-1.wav-fft.csv.gz'\n",
      " '161225-006_16bit-part-2.wav-fft.csv.gz']\n"
     ]
    }
   ],
   "source": [
    "fft_compressed_files = list_files(fft_directory,'gz')\n",
    "print(fft_compressed_files)"
   ]
  },
  {
   "cell_type": "markdown",
   "metadata": {},
   "source": [
    "### Each fft row represents the discrete FFT analysis for a 150 ms window of the input signal. Each observation window starts 5 ms apart."
   ]
  },
  {
   "cell_type": "code",
   "execution_count": 7,
   "metadata": {
    "collapsed": true
   },
   "outputs": [],
   "source": [
    "def label_pos_observations(df, x_all, positive_threshold):\n",
    "\n",
    "    label_window_start = 1100\n",
    "    label_window_end = 1300\n",
    "    \n",
    "    # Ignore the first section of the frequencies as these are not relevant \n",
    "    # and have relatively large values compared with the signal of interest.\n",
    "\n",
    "    cols = np.arange(label_window_start,label_window_end)\n",
    "    sub_df = df.iloc[:,cols]\n",
    "\n",
    "    # ### Observations with power values over positive_threshold dB are assigned a True Positive Response\n",
    "    df_response = pd.DataFrame(data={'response':sub_df.loc[:,cols].max(axis=1) > positive_threshold})\n",
    "    df_response['x_axis'] = [x for x in np.arange(0,len(x_all)-sample_size,stride)]\n",
    "\n",
    "    return df_response\n",
    "\n",
    "def label_neg_observations(df):\n",
    "    df_response = pd.DataFrame(data={'response':['False']*df.shape[0]})\n",
    "    df_response['x_axis'] = [x for x in np.arange(0,df.shape[0]*80,stride)]\n",
    "\n",
    "    return df_response\n",
    "\n",
    "def save_wav(filename, df, x_all):\n",
    "    # # Output Training Data\n",
    "    positive_label_data = df[df['response'] == True].drop('response',axis=1)\n",
    "    print ('\\nPositive Response: %s,%s'%(positive_label_data.shape))\n",
    "\n",
    "    # Positive Samples\n",
    "    w_size = stride\n",
    "    for idx in positive_label_data.index:\n",
    "        begin = idx * w_size \n",
    "        librosa.output.write_wav(pos_response_sample_directory+filename+'positive_sample_%s.wav'%idx,x_all[begin:begin+sample_size], sample_rate)\n",
    "        \n",
    "def plot_wav_response(x_all, df):\n",
    "    fig,ax = plt.subplots(figsize=(12,6))\n",
    "    ax.plot(x_all)\n",
    "    df[['x_axis','response']].plot(x='x_axis',y='response',c='r',ax=ax, alpha=0.3)\n",
    "\n",
    "    plt.xlim(0,1000000)\n",
    "    plt.ylim(-1,1)\n",
    "    plt.show()"
   ]
  },
  {
   "cell_type": "code",
   "execution_count": 8,
   "metadata": {
    "collapsed": false,
    "scrolled": false
   },
   "outputs": [
    {
     "name": "stdout",
     "output_type": "stream",
     "text": [
      "Positive Response File Processing...\n",
      "\n",
      "161225-001_16bit-part-9.wav / 161225-001_16bit-part-9.wav-fft.csv.gz\n",
      "False    11488\n",
      "True       482\n",
      "Name: response, dtype: int64\n",
      "\n",
      "161225-002_16bit-part-0.wav / 161225-002_16bit-part-0.wav-fft.csv.gz\n",
      "False    9794\n",
      "True      459\n",
      "Name: response, dtype: int64\n",
      "\n",
      "161225-003_16bit-part-0.wav / 161225-003_16bit-part-0.wav-fft.csv.gz\n",
      "False    11242\n",
      "True       439\n",
      "Name: response, dtype: int64\n",
      "\n",
      "161225-004_16bit-part-0.wav / 161225-004_16bit-part-0.wav-fft.csv.gz\n",
      "False    11178\n",
      "True       429\n",
      "Name: response, dtype: int64\n",
      "\n",
      "161225-005_16bit-part-0.wav / 161225-005_16bit-part-0.wav-fft.csv.gz\n",
      "False    9691\n",
      "True      446\n",
      "Name: response, dtype: int64\n",
      "\n",
      "161225-006_16bit-part-0.wav / 161225-006_16bit-part-0.wav-fft.csv.gz\n",
      "False    11546\n",
      "True       424\n",
      "Name: response, dtype: int64\n",
      "\n",
      "161225-006_16bit-part-1.wav / 161225-006_16bit-part-1.wav-fft.csv.gz\n",
      "False    11510\n",
      "True       460\n",
      "Name: response, dtype: int64\n",
      "\n",
      "161225-006_16bit-part-2.wav / 161225-006_16bit-part-2.wav-fft.csv.gz\n",
      "False    7128\n",
      "True      407\n",
      "Name: response, dtype: int64\n",
      "Negative Response File Processing...\n",
      "\n",
      "161225-000_16bit-part-0.wav / 161225-000_16bit-part-0.wav-fft.csv.gz\n",
      "False    11970\n",
      "Name: response, dtype: int64\n",
      "\n",
      "161225-000_16bit-part-1.wav / 161225-000_16bit-part-1.wav-fft.csv.gz\n",
      "False    11970\n",
      "Name: response, dtype: int64\n",
      "\n",
      "161225-000_16bit-part-2.wav / 161225-000_16bit-part-2.wav-fft.csv.gz\n",
      "False    11970\n",
      "Name: response, dtype: int64\n",
      "\n",
      "161225-000_16bit-part-3.wav / 161225-000_16bit-part-3.wav-fft.csv.gz\n",
      "False    11970\n",
      "Name: response, dtype: int64\n",
      "\n",
      "161225-000_16bit-part-4.wav / 161225-000_16bit-part-4.wav-fft.csv.gz\n",
      "False    11970\n",
      "Name: response, dtype: int64\n",
      "\n",
      "161225-000_16bit-part-5.wav / 161225-000_16bit-part-5.wav-fft.csv.gz\n",
      "False    11970\n",
      "Name: response, dtype: int64\n",
      "\n",
      "161225-000_16bit-part-6.wav / 161225-000_16bit-part-6.wav-fft.csv.gz\n",
      "False    6846\n",
      "Name: response, dtype: int64\n",
      "\n",
      "161225-001_16bit-part-0.wav / 161225-001_16bit-part-0.wav-fft.csv.gz\n",
      "False    11970\n",
      "Name: response, dtype: int64\n",
      "\n",
      "161225-001_16bit-part-1.wav / 161225-001_16bit-part-1.wav-fft.csv.gz\n",
      "False    11970\n",
      "Name: response, dtype: int64\n",
      "\n",
      "161225-001_16bit-part-10.wav / 161225-001_16bit-part-10.wav-fft.csv.gz\n",
      "False    1833\n",
      "Name: response, dtype: int64\n",
      "\n",
      "161225-001_16bit-part-2.wav / 161225-001_16bit-part-2.wav-fft.csv.gz\n",
      "False    11970\n",
      "Name: response, dtype: int64\n",
      "\n",
      "161225-001_16bit-part-3.wav / 161225-001_16bit-part-3.wav-fft.csv.gz\n",
      "False    11970\n",
      "Name: response, dtype: int64\n",
      "\n",
      "161225-001_16bit-part-4.wav / 161225-001_16bit-part-4.wav-fft.csv.gz\n",
      "False    11970\n",
      "Name: response, dtype: int64\n",
      "\n",
      "161225-001_16bit-part-5.wav / 161225-001_16bit-part-5.wav-fft.csv.gz\n",
      "False    11970\n",
      "Name: response, dtype: int64\n",
      "\n",
      "161225-001_16bit-part-6.wav / 161225-001_16bit-part-6.wav-fft.csv.gz\n",
      "False    11970\n",
      "Name: response, dtype: int64\n",
      "\n",
      "161225-001_16bit-part-7.wav / 161225-001_16bit-part-7.wav-fft.csv.gz\n",
      "False    11970\n",
      "Name: response, dtype: int64\n",
      "\n",
      "161225-001_16bit-part-8.wav / 161225-001_16bit-part-8.wav-fft.csv.gz\n",
      "False    11970\n",
      "Name: response, dtype: int64\n",
      "CPU times: user 5min 26s, sys: 10.7 s, total: 5min 36s\n",
      "Wall time: 5min 37s\n"
     ]
    }
   ],
   "source": [
    "%%time\n",
    "\n",
    "threshold = 18\n",
    "\n",
    "print('Positive Response File Processing...')\n",
    "for wav_filename,fft_filename in zip(pos_wav_files,[f+'-fft.csv.gz' for f in pos_wav_files]):\n",
    "    print('\\n{0} / {1}'.format(wav_filename,fft_filename))\n",
    "    df = pd.read_csv(fft_directory+fft_filename)\n",
    "    cols = np.arange(0,sample_size).tolist()\n",
    "    df.columns=cols\n",
    "    \n",
    "    x_all, sr = librosa.load(wav_directory+wav_filename, sr=sample_rate)\n",
    "    df_response = label_pos_observations(df,x_all,threshold)\n",
    "    df_response.to_csv(fft_directory+'{0}-response.csv'.format(fft_filename))\n",
    "    \n",
    "    print(df_response['response'].value_counts())\n",
    "\n",
    "print('Negative Response File Processing...')\n",
    "neg_files = pd.DataFrame([f if f not in pos_wav_files else None for f in wav_files]).dropna().iloc[:,0].tolist()\n",
    "\n",
    "for wav_filename,fft_filename in zip(neg_files,[f+'-fft.csv.gz' for f in neg_files]):\n",
    "    print('\\n{0} / {1}'.format(wav_filename,fft_filename))\n",
    "    df = pd.read_csv(fft_directory+fft_filename)\n",
    "    cols = np.arange(0,sample_size).tolist()\n",
    "    df.columns=cols\n",
    "    \n",
    "    df_response = label_neg_observations(df)\n",
    "    df_response.to_csv(fft_directory+'{0}-response.csv'.format(fft_filename))\n",
    "    \n",
    "    print(df_response['response'].value_counts())"
   ]
  },
  {
   "cell_type": "code",
   "execution_count": null,
   "metadata": {
    "collapsed": true
   },
   "outputs": [],
   "source": []
  }
 ],
 "metadata": {
  "anaconda-cloud": {},
  "kernelspec": {
   "display_name": "Python [conda root]",
   "language": "python",
   "name": "conda-root-py"
  },
  "language_info": {
   "codemirror_mode": {
    "name": "ipython",
    "version": 2
   },
   "file_extension": ".py",
   "mimetype": "text/x-python",
   "name": "python",
   "nbconvert_exporter": "python",
   "pygments_lexer": "ipython2",
   "version": "2.7.12"
  }
 },
 "nbformat": 4,
 "nbformat_minor": 1
}
