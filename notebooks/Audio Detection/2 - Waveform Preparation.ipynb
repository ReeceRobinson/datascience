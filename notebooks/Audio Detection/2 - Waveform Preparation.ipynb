{
 "cells": [
  {
   "cell_type": "markdown",
   "metadata": {},
   "source": [
    "# Perform FFT analysis of the recorded waveforms\n",
    "This notebook performs the discrete fourier analysis of the source audio files. The results are stored in a Pandas DataFrame with a response column added. This response is calculated to label observations as positive or negative for the presence of a beep.\n",
    "\n",
    "Author: Reece Robinson, 2016"
   ]
  },
  {
   "cell_type": "code",
   "execution_count": 13,
   "metadata": {
    "collapsed": true
   },
   "outputs": [],
   "source": [
    "%matplotlib inline\n",
    "import seaborn\n",
    "import numpy as np\n",
    "import scipy\n",
    "import matplotlib.pyplot as plt\n",
    "import pandas as pd\n",
    "import librosa\n",
    "import os\n",
    "import sys\n",
    "\n",
    "from scipy.fftpack import rfft\n",
    "from scipy.signal import blackman"
   ]
  },
  {
   "cell_type": "code",
   "execution_count": 39,
   "metadata": {
    "collapsed": true
   },
   "outputs": [],
   "source": [
    "source_directory = r'/Volumes/ThorsHammer/Data Science/data/audio-recognition/parts/'\n",
    "destination_directory = r'/Volumes/ThorsHammer/Data Science/data/audio-recognition/fft/'\n",
    "\n",
    "if not os.path.exists(destination_directory):\n",
    "    os.makedirs(destination_directory)"
   ]
  },
  {
   "cell_type": "markdown",
   "metadata": {},
   "source": [
    "# Create Dataset\n",
    "### Calculate the FFT for the entire signal in 150 msec sliding window of 5 msec increments\n",
    "The result dataset is a **n** x **m** dataframe where **n** is the number of observations and **m** is the calculated frequency power output from the FFT algorithm."
   ]
  },
  {
   "cell_type": "code",
   "execution_count": 40,
   "metadata": {
    "collapsed": false
   },
   "outputs": [],
   "source": [
    "duration = 0.15 # window length in seconds\n",
    "sample_rate = 16000\n",
    "sample_size = 2400 # 150 ms window size\n",
    "stride = 80 # sliding 5 ms window increments\n",
    "w = blackman(sample_size) # FFT window used in analysis\n",
    "label_window_start = 1000\n",
    "label_window_end = 1300"
   ]
  },
  {
   "cell_type": "code",
   "execution_count": 41,
   "metadata": {
    "collapsed": false
   },
   "outputs": [
    {
     "name": "stdout",
     "output_type": "stream",
     "text": [
      "['161225-000_16bit-part-0.wav', '161225-000_16bit-part-1.wav', '161225-000_16bit-part-2.wav', '161225-000_16bit-part-3.wav', '161225-000_16bit-part-4.wav', '161225-000_16bit-part-5.wav', '161225-000_16bit-part-6.wav', '161225-001_16bit-part-0.wav', '161225-001_16bit-part-1.wav', '161225-001_16bit-part-10.wav', '161225-001_16bit-part-2.wav', '161225-001_16bit-part-3.wav', '161225-001_16bit-part-4.wav', '161225-001_16bit-part-5.wav', '161225-001_16bit-part-6.wav', '161225-001_16bit-part-7.wav', '161225-001_16bit-part-8.wav', '161225-001_16bit-part-9.wav', '161225-002_16bit-part-0.wav', '161225-003_16bit-part-0.wav', '161225-004_16bit-part-0.wav', '161225-005_16bit-part-0.wav', '161225-006_16bit-part-0.wav', '161225-006_16bit-part-1.wav', '161225-006_16bit-part-2.wav']\n"
     ]
    }
   ],
   "source": [
    "from os.path import isfile, join\n",
    "\n",
    "def list_files(base_dir):\n",
    "    onlyfiles = [f for f in os.listdir(base_dir) if isfile(join(base_dir, f)) and f.split('.')[-1] == 'wav']\n",
    "    return onlyfiles\n",
    "\n",
    "files = list_files(source_directory)\n",
    "print(files)\n"
   ]
  },
  {
   "cell_type": "code",
   "execution_count": 42,
   "metadata": {
    "collapsed": false
   },
   "outputs": [],
   "source": [
    "def analyse_ftt(filename, x_all):\n",
    "    results = []\n",
    "    \n",
    "    # perform FFT for each sliding window\n",
    "    for i in np.arange(0,len(x_all)-sample_size,stride):\n",
    "        offset = i # seconds\n",
    "        x = x_all[offset:offset+sample_size]\n",
    "\n",
    "        FFTw = abs(rfft(x*w))\n",
    "        FFTwdB = 20*scipy.log10(FFTw)\n",
    "        results.append(FFTwdB)\n",
    "\n",
    "    results = np.asarray(results)\n",
    "    print('\\nresults: %s,%s'%(results.shape))\n",
    "    return results"
   ]
  },
  {
   "cell_type": "code",
   "execution_count": 44,
   "metadata": {
    "collapsed": true
   },
   "outputs": [],
   "source": [
    "def save_wav(df, x_all):\n",
    "    # # Output Training Data\n",
    "    positive_label_data = df[df['response'] == True].drop('response',axis=1)\n",
    "    print ('\\nPositive Response: %s,%s'%(positive_label_data.shape))\n",
    "\n",
    "    # Positive Samples\n",
    "    w_size = stride\n",
    "    for idx in positive_label_data.index:\n",
    "        begin = idx * w_size \n",
    "        librosa.output.write_wav(destination_directory+filename+'positive_sample_%s.wav'%idx,x_all[begin:begin+sample_size], sample_rate)"
   ]
  },
  {
   "cell_type": "code",
   "execution_count": 46,
   "metadata": {
    "collapsed": false,
    "scrolled": false
   },
   "outputs": [
    {
     "name": "stdout",
     "output_type": "stream",
     "text": [
      "\n",
      "Analysing: 161225-000_16bit-part-0.wav\n",
      "\n",
      "results: 11970,2400\n",
      "CPU times: user 2min 40s, sys: 1.65 s, total: 2min 42s\n",
      "Wall time: 2min 41s\n",
      "\n",
      "Analysing: 161225-000_16bit-part-1.wav\n",
      "\n",
      "results: 11970,2400\n",
      "CPU times: user 2min 32s, sys: 2.23 s, total: 2min 34s\n",
      "Wall time: 2min 33s\n",
      "\n",
      "Analysing: 161225-000_16bit-part-2.wav\n",
      "\n",
      "results: 11970,2400\n",
      "CPU times: user 2min 17s, sys: 1.32 s, total: 2min 18s\n",
      "Wall time: 2min 17s\n",
      "\n",
      "Analysing: 161225-000_16bit-part-3.wav\n",
      "\n",
      "results: 11970,2400\n",
      "CPU times: user 2min 28s, sys: 1.69 s, total: 2min 29s\n",
      "Wall time: 2min 29s\n",
      "\n",
      "Analysing: 161225-000_16bit-part-4.wav\n",
      "\n",
      "results: 11970,2400\n",
      "CPU times: user 2min 14s, sys: 1.41 s, total: 2min 15s\n",
      "Wall time: 2min 15s\n",
      "\n",
      "Analysing: 161225-000_16bit-part-5.wav\n",
      "\n",
      "results: 11970,2400\n",
      "CPU times: user 2min 17s, sys: 2.08 s, total: 2min 19s\n",
      "Wall time: 2min 18s\n",
      "\n",
      "Analysing: 161225-000_16bit-part-6.wav\n",
      "\n",
      "results: 6846,2400\n",
      "CPU times: user 1min 34s, sys: 1.58 s, total: 1min 35s\n",
      "Wall time: 1min 35s\n",
      "\n",
      "Analysing: 161225-001_16bit-part-0.wav\n",
      "\n",
      "results: 11970,2400\n",
      "CPU times: user 2min 44s, sys: 2.34 s, total: 2min 47s\n",
      "Wall time: 2min 46s\n",
      "\n",
      "Analysing: 161225-001_16bit-part-1.wav\n",
      "\n",
      "results: 11970,2400\n",
      "CPU times: user 2min 49s, sys: 1.79 s, total: 2min 51s\n",
      "Wall time: 2min 50s\n",
      "\n",
      "Analysing: 161225-001_16bit-part-10.wav\n",
      "\n",
      "results: 1833,2400\n",
      "CPU times: user 26.5 s, sys: 251 ms, total: 26.8 s\n",
      "Wall time: 26.7 s\n",
      "\n",
      "Analysing: 161225-001_16bit-part-2.wav\n",
      "\n",
      "results: 11970,2400\n",
      "CPU times: user 2min 49s, sys: 2.01 s, total: 2min 51s\n",
      "Wall time: 2min 50s\n",
      "\n",
      "Analysing: 161225-001_16bit-part-3.wav\n",
      "\n",
      "results: 11970,2400\n",
      "CPU times: user 2min 21s, sys: 1.07 s, total: 2min 22s\n",
      "Wall time: 2min 22s\n",
      "\n",
      "Analysing: 161225-001_16bit-part-4.wav\n",
      "\n",
      "results: 11970,2400\n",
      "CPU times: user 2min 22s, sys: 1.11 s, total: 2min 24s\n",
      "Wall time: 2min 23s\n",
      "\n",
      "Analysing: 161225-001_16bit-part-5.wav\n",
      "\n",
      "results: 11970,2400\n",
      "CPU times: user 2min 18s, sys: 1.2 s, total: 2min 19s\n",
      "Wall time: 2min 18s\n",
      "\n",
      "Analysing: 161225-001_16bit-part-6.wav\n",
      "\n",
      "results: 11970,2400\n",
      "CPU times: user 2min 11s, sys: 1.7 s, total: 2min 12s\n",
      "Wall time: 2min 11s\n",
      "\n",
      "Analysing: 161225-001_16bit-part-7.wav\n",
      "\n",
      "results: 11970,2400\n",
      "CPU times: user 2min 17s, sys: 1.44 s, total: 2min 18s\n",
      "Wall time: 2min 18s\n",
      "\n",
      "Analysing: 161225-001_16bit-part-8.wav\n",
      "\n",
      "results: 11970,2400\n",
      "CPU times: user 2min 22s, sys: 1.66 s, total: 2min 24s\n",
      "Wall time: 2min 23s\n",
      "\n",
      "Analysing: 161225-001_16bit-part-9.wav\n",
      "\n",
      "results: 11970,2400\n",
      "CPU times: user 2min 44s, sys: 1.71 s, total: 2min 46s\n",
      "Wall time: 2min 45s\n",
      "\n",
      "Analysing: 161225-002_16bit-part-0.wav\n",
      "\n",
      "results: 10253,2400\n",
      "CPU times: user 2min 29s, sys: 1.36 s, total: 2min 31s\n",
      "Wall time: 2min 30s\n",
      "\n",
      "Analysing: 161225-003_16bit-part-0.wav\n",
      "\n",
      "results: 11681,2400\n",
      "CPU times: user 2min 50s, sys: 1.57 s, total: 2min 51s\n",
      "Wall time: 2min 51s\n",
      "\n",
      "Analysing: 161225-004_16bit-part-0.wav\n",
      "\n",
      "results: 11607,2400\n",
      "CPU times: user 2min 48s, sys: 1.72 s, total: 2min 50s\n",
      "Wall time: 2min 49s\n",
      "\n",
      "Analysing: 161225-005_16bit-part-0.wav\n",
      "\n",
      "results: 10137,2400\n",
      "CPU times: user 2min 29s, sys: 1.28 s, total: 2min 30s\n",
      "Wall time: 2min 29s\n",
      "\n",
      "Analysing: 161225-006_16bit-part-0.wav\n",
      "\n",
      "results: 11970,2400\n",
      "CPU times: user 2min 47s, sys: 2.27 s, total: 2min 49s\n",
      "Wall time: 2min 49s\n",
      "\n",
      "Analysing: 161225-006_16bit-part-1.wav\n",
      "\n",
      "results: 11970,2400\n",
      "CPU times: user 2min 56s, sys: 1.39 s, total: 2min 57s\n",
      "Wall time: 2min 57s\n",
      "\n",
      "Analysing: 161225-006_16bit-part-2.wav\n",
      "\n",
      "results: 7535,2400\n",
      "CPU times: user 1min 50s, sys: 885 ms, total: 1min 51s\n",
      "Wall time: 1min 51s\n"
     ]
    }
   ],
   "source": [
    "for filename in files:\n",
    "    print('\\nAnalysing: {0}'.format(filename))\n",
    "    x_all, sr = librosa.load(source_directory+filename, sr=sample_rate)\n",
    "    result = analyse_ftt(filename,x_all)\n",
    "    df = pd.DataFrame(result)\n",
    "    output_file = '{0}{1}-fft.csv.gz'.format(destination_directory,filename)\n",
    "    %%time df.to_csv(output_file, header=True, index=False, compression='gzip')"
   ]
  },
  {
   "cell_type": "markdown",
   "metadata": {
    "collapsed": true
   },
   "source": [
    "## Total Observations: 275,352"
   ]
  }
 ],
 "metadata": {
  "anaconda-cloud": {},
  "kernelspec": {
   "display_name": "Python [conda root]",
   "language": "python",
   "name": "conda-root-py"
  },
  "language_info": {
   "codemirror_mode": {
    "name": "ipython",
    "version": 2
   },
   "file_extension": ".py",
   "mimetype": "text/x-python",
   "name": "python",
   "nbconvert_exporter": "python",
   "pygments_lexer": "ipython2",
   "version": "2.7.12"
  }
 },
 "nbformat": 4,
 "nbformat_minor": 1
}
