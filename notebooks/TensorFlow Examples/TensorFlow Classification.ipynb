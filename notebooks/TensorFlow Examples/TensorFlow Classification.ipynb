{
 "cells": [
  {
   "cell_type": "markdown",
   "metadata": {},
   "source": [
    "https://github.com/llSourcell/How_to_use_Tensorflow_for_classification-LIVE"
   ]
  },
  {
   "cell_type": "code",
   "execution_count": 1,
   "metadata": {
    "collapsed": true
   },
   "outputs": [],
   "source": [
    "import pandas as pd\n",
    "import numpy as np\n",
    "import matplotlib.pyplot as plt\n",
    "import tensorflow as tf"
   ]
  },
  {
   "cell_type": "code",
   "execution_count": 8,
   "metadata": {
    "collapsed": false
   },
   "outputs": [
    {
     "data": {
      "text/html": [
       "<div>\n",
       "<table border=\"1\" class=\"dataframe\">\n",
       "  <thead>\n",
       "    <tr style=\"text-align: right;\">\n",
       "      <th></th>\n",
       "      <th>area</th>\n",
       "      <th>bathrooms</th>\n",
       "    </tr>\n",
       "  </thead>\n",
       "  <tbody>\n",
       "    <tr>\n",
       "      <th>0</th>\n",
       "      <td>2104.0</td>\n",
       "      <td>3.0</td>\n",
       "    </tr>\n",
       "    <tr>\n",
       "      <th>1</th>\n",
       "      <td>1600.0</td>\n",
       "      <td>3.0</td>\n",
       "    </tr>\n",
       "    <tr>\n",
       "      <th>2</th>\n",
       "      <td>2400.0</td>\n",
       "      <td>3.0</td>\n",
       "    </tr>\n",
       "    <tr>\n",
       "      <th>3</th>\n",
       "      <td>1416.0</td>\n",
       "      <td>2.0</td>\n",
       "    </tr>\n",
       "    <tr>\n",
       "      <th>4</th>\n",
       "      <td>3000.0</td>\n",
       "      <td>4.0</td>\n",
       "    </tr>\n",
       "    <tr>\n",
       "      <th>5</th>\n",
       "      <td>1985.0</td>\n",
       "      <td>4.0</td>\n",
       "    </tr>\n",
       "    <tr>\n",
       "      <th>6</th>\n",
       "      <td>1534.0</td>\n",
       "      <td>3.0</td>\n",
       "    </tr>\n",
       "    <tr>\n",
       "      <th>7</th>\n",
       "      <td>1427.0</td>\n",
       "      <td>3.0</td>\n",
       "    </tr>\n",
       "    <tr>\n",
       "      <th>8</th>\n",
       "      <td>1380.0</td>\n",
       "      <td>3.0</td>\n",
       "    </tr>\n",
       "    <tr>\n",
       "      <th>9</th>\n",
       "      <td>1494.0</td>\n",
       "      <td>3.0</td>\n",
       "    </tr>\n",
       "  </tbody>\n",
       "</table>\n",
       "</div>"
      ],
      "text/plain": [
       "     area  bathrooms\n",
       "0  2104.0        3.0\n",
       "1  1600.0        3.0\n",
       "2  2400.0        3.0\n",
       "3  1416.0        2.0\n",
       "4  3000.0        4.0\n",
       "5  1985.0        4.0\n",
       "6  1534.0        3.0\n",
       "7  1427.0        3.0\n",
       "8  1380.0        3.0\n",
       "9  1494.0        3.0"
      ]
     },
     "execution_count": 8,
     "metadata": {},
     "output_type": "execute_result"
    }
   ],
   "source": [
    "# Load the data\n",
    "dataframe = pd.read_csv('data.csv')\n",
    "dataframe = dataframe.drop(['index','price','sq_price'], axis=1)\n",
    "# Only use first 10 rows\n",
    "dataframe = dataframe[0:10]\n",
    "dataframe"
   ]
  },
  {
   "cell_type": "code",
   "execution_count": 30,
   "metadata": {
    "collapsed": false
   },
   "outputs": [
    {
     "data": {
      "text/html": [
       "<div>\n",
       "<table border=\"1\" class=\"dataframe\">\n",
       "  <thead>\n",
       "    <tr style=\"text-align: right;\">\n",
       "      <th></th>\n",
       "      <th>area</th>\n",
       "      <th>bathrooms</th>\n",
       "      <th>y1</th>\n",
       "      <th>y2</th>\n",
       "    </tr>\n",
       "  </thead>\n",
       "  <tbody>\n",
       "    <tr>\n",
       "      <th>0</th>\n",
       "      <td>2104.0</td>\n",
       "      <td>3.0</td>\n",
       "      <td>1</td>\n",
       "      <td>0</td>\n",
       "    </tr>\n",
       "    <tr>\n",
       "      <th>1</th>\n",
       "      <td>1600.0</td>\n",
       "      <td>3.0</td>\n",
       "      <td>1</td>\n",
       "      <td>0</td>\n",
       "    </tr>\n",
       "    <tr>\n",
       "      <th>2</th>\n",
       "      <td>2400.0</td>\n",
       "      <td>3.0</td>\n",
       "      <td>1</td>\n",
       "      <td>0</td>\n",
       "    </tr>\n",
       "    <tr>\n",
       "      <th>3</th>\n",
       "      <td>1416.0</td>\n",
       "      <td>2.0</td>\n",
       "      <td>0</td>\n",
       "      <td>1</td>\n",
       "    </tr>\n",
       "    <tr>\n",
       "      <th>4</th>\n",
       "      <td>3000.0</td>\n",
       "      <td>4.0</td>\n",
       "      <td>0</td>\n",
       "      <td>1</td>\n",
       "    </tr>\n",
       "    <tr>\n",
       "      <th>5</th>\n",
       "      <td>1985.0</td>\n",
       "      <td>4.0</td>\n",
       "      <td>1</td>\n",
       "      <td>0</td>\n",
       "    </tr>\n",
       "    <tr>\n",
       "      <th>6</th>\n",
       "      <td>1534.0</td>\n",
       "      <td>3.0</td>\n",
       "      <td>0</td>\n",
       "      <td>1</td>\n",
       "    </tr>\n",
       "    <tr>\n",
       "      <th>7</th>\n",
       "      <td>1427.0</td>\n",
       "      <td>3.0</td>\n",
       "      <td>1</td>\n",
       "      <td>0</td>\n",
       "    </tr>\n",
       "    <tr>\n",
       "      <th>8</th>\n",
       "      <td>1380.0</td>\n",
       "      <td>3.0</td>\n",
       "      <td>1</td>\n",
       "      <td>0</td>\n",
       "    </tr>\n",
       "    <tr>\n",
       "      <th>9</th>\n",
       "      <td>1494.0</td>\n",
       "      <td>3.0</td>\n",
       "      <td>1</td>\n",
       "      <td>0</td>\n",
       "    </tr>\n",
       "  </tbody>\n",
       "</table>\n",
       "</div>"
      ],
      "text/plain": [
       "     area  bathrooms  y1  y2\n",
       "0  2104.0        3.0   1   0\n",
       "1  1600.0        3.0   1   0\n",
       "2  2400.0        3.0   1   0\n",
       "3  1416.0        2.0   0   1\n",
       "4  3000.0        4.0   0   1\n",
       "5  1985.0        4.0   1   0\n",
       "6  1534.0        3.0   0   1\n",
       "7  1427.0        3.0   1   0\n",
       "8  1380.0        3.0   1   0\n",
       "9  1494.0        3.0   1   0"
      ]
     },
     "execution_count": 30,
     "metadata": {},
     "output_type": "execute_result"
    }
   ],
   "source": [
    "# Introduce labels\n",
    "# 1 = good buy, 0 = bad buy\n",
    "dataframe['y1'] = [1,1,1,0,0,1,0,1,1,1]\n",
    "dataframe['y2'] = dataframe['y1'] == 0\n",
    "dataframe['y2'] = dataframe['y2'].astype(int)\n",
    "dataframe"
   ]
  },
  {
   "cell_type": "code",
   "execution_count": 46,
   "metadata": {
    "collapsed": false
   },
   "outputs": [],
   "source": [
    "# prepare data for tensorflow (tensors)\n",
    "# convert features to input Tensor\n",
    "inputX = dataframe[['area', 'bathrooms']].as_matrix()\n",
    "# convert labels to input Tensor\n",
    "inputY = dataframe[['y1','y2']].as_matrix()"
   ]
  },
  {
   "cell_type": "code",
   "execution_count": 47,
   "metadata": {
    "collapsed": false
   },
   "outputs": [],
   "source": [
    "# write out the hyperparameters\n",
    "learning_rate = 0.000001\n",
    "training_epochs = 2000\n",
    "display_steps = 50\n",
    "n_samples = inputY.size"
   ]
  },
  {
   "cell_type": "code",
   "execution_count": 48,
   "metadata": {
    "collapsed": false
   },
   "outputs": [],
   "source": [
    "# create our computation graph/neural network for feature input tensors\n",
    "# None = unspecified examples\n",
    "# 2 = size of input tensor ie. two features\n",
    "# placeholders are gateways for data into our computation graph\n",
    "x = tf.placeholder(tf.float32,[None,2])\n",
    "\n",
    "# create weights\n",
    "# 2x2 float matrix, that will keep updating through training process\n",
    "# variables in tf hold and update parameters ie. in-memory buffers that contain tensors\n",
    "W = tf.Variable(tf.zeros([2,2]))\n",
    "\n",
    "# add biases\n",
    "b = tf.Variable(tf.zeros([2]))\n",
    "\n",
    "# multiply our weights by our inputs, first calculation here\n",
    "# multiply input by weights and add biases\n",
    "y_values = tf.add(tf.matmul(x, W),b)\n",
    "\n",
    "# apply softmax to values we just calculated\n",
    "# softmax is our activation function\n",
    "y = tf.nn.softmax(y_values)\n",
    "\n",
    "# feed in a matrix of labels\n",
    "y_ = tf.placeholder(tf.float32, [None, 2])"
   ]
  },
  {
   "cell_type": "code",
   "execution_count": 49,
   "metadata": {
    "collapsed": true
   },
   "outputs": [],
   "source": [
    "# perform training\n",
    "# create our cost function, mean square error\n",
    "# reduce_sum computes the sum of elements across dimensions of a tensor\n",
    "cost = tf.reduce_sum(tf.pow(y_ - y, 2))/(2 * n_samples)\n",
    "# gradient descent\n",
    "optimizer = tf.train.GradientDescentOptimizer(learning_rate).minimize(cost)"
   ]
  },
  {
   "cell_type": "code",
   "execution_count": 50,
   "metadata": {
    "collapsed": true
   },
   "outputs": [],
   "source": [
    "# initialise variables and tensorflow session\n",
    "init = tf.initialize_all_variables()\n",
    "sess = tf.Session()\n",
    "sess.run(init)"
   ]
  },
  {
   "cell_type": "code",
   "execution_count": 51,
   "metadata": {
    "collapsed": false
   },
   "outputs": [
    {
     "name": "stdout",
     "output_type": "stream",
     "text": [
      "training step: 0000 cost= 0.114958666\n",
      "training step: 0050 cost= 0.109539941\n",
      "training step: 0100 cost= 0.109539881\n",
      "training step: 0150 cost= 0.109539807\n",
      "training step: 0200 cost= 0.109539732\n",
      "training step: 0250 cost= 0.109539673\n",
      "training step: 0300 cost= 0.109539606\n",
      "training step: 0350 cost= 0.109539531\n",
      "training step: 0400 cost= 0.109539464\n",
      "training step: 0450 cost= 0.109539405\n",
      "training step: 0500 cost= 0.109539330\n",
      "training step: 0550 cost= 0.109539248\n",
      "training step: 0600 cost= 0.109539196\n",
      "training step: 0650 cost= 0.109539129\n",
      "training step: 0700 cost= 0.109539054\n",
      "training step: 0750 cost= 0.109538987\n",
      "training step: 0800 cost= 0.109538913\n",
      "training step: 0850 cost= 0.109538853\n",
      "training step: 0900 cost= 0.109538779\n",
      "training step: 0950 cost= 0.109538712\n",
      "training step: 1000 cost= 0.109538652\n",
      "training step: 1050 cost= 0.109538577\n",
      "training step: 1100 cost= 0.109538510\n",
      "training step: 1150 cost= 0.109538436\n",
      "training step: 1200 cost= 0.109538376\n",
      "training step: 1250 cost= 0.109538302\n",
      "training step: 1300 cost= 0.109538242\n",
      "training step: 1350 cost= 0.109538175\n",
      "training step: 1400 cost= 0.109538093\n",
      "training step: 1450 cost= 0.109538034\n",
      "training step: 1500 cost= 0.109537959\n",
      "training step: 1550 cost= 0.109537885\n",
      "training step: 1600 cost= 0.109537825\n",
      "training step: 1650 cost= 0.109537765\n",
      "training step: 1700 cost= 0.109537683\n",
      "training step: 1750 cost= 0.109537624\n",
      "training step: 1800 cost= 0.109537557\n",
      "training step: 1850 cost= 0.109537482\n",
      "training step: 1900 cost= 0.109537423\n",
      "training step: 1950 cost= 0.109537341\n",
      "Optimisation Finished!\n",
      "Training cost= 0.109537 \n",
      "W= [[  2.14149564e-04  -2.14149914e-04]\n",
      " [  5.12748193e-05  -5.12747974e-05]] \n",
      "b= [  1.19155184e-05  -1.19155284e-05]\n"
     ]
    }
   ],
   "source": [
    "# training loop\n",
    "for i in range(training_epochs):\n",
    "    sess.run(optimizer,feed_dict={x:inputX, y_:inputY})\n",
    "    \n",
    "    # write out logs of training\n",
    "    if (i) % display_steps == 0:\n",
    "        cc = sess.run(cost, feed_dict={x:inputX, y_:inputY})\n",
    "        print 'training step:', '%04d' % (i), 'cost=', '{:.9f}'.format(cc)\n",
    "        \n",
    "print 'Optimisation Finished!'\n",
    "training_cost = sess.run(cost,feed_dict={x:inputX, y_:inputY} )\n",
    "print 'Training cost=', training_cost, '\\nW=', sess.run(W), '\\nb=', sess.run(b)"
   ]
  },
  {
   "cell_type": "code",
   "execution_count": 52,
   "metadata": {
    "collapsed": false
   },
   "outputs": [
    {
     "data": {
      "text/plain": [
       "array([[ 0.71125221,  0.28874779],\n",
       "       [ 0.66498977,  0.33501023],\n",
       "       [ 0.73657656,  0.26342347],\n",
       "       [ 0.64718789,  0.35281211],\n",
       "       [ 0.78335613,  0.2166439 ],\n",
       "       [ 0.70069474,  0.29930523],\n",
       "       [ 0.65866327,  0.34133676],\n",
       "       [ 0.64828628,  0.35171372],\n",
       "       [ 0.64368278,  0.35631716],\n",
       "       [ 0.65480113,  0.3451989 ]], dtype=float32)"
      ]
     },
     "execution_count": 52,
     "metadata": {},
     "output_type": "execute_result"
    }
   ],
   "source": [
    "# test it\n",
    "sess.run(y , feed_dict={x:inputX})"
   ]
  },
  {
   "cell_type": "code",
   "execution_count": 53,
   "metadata": {
    "collapsed": true
   },
   "outputs": [],
   "source": [
    "# it is saying all houses are a good buy 7/10 correct"
   ]
  }
 ],
 "metadata": {
  "anaconda-cloud": {},
  "kernelspec": {
   "display_name": "Python [conda env:tensorflow]",
   "language": "python",
   "name": "conda-env-tensorflow-py"
  },
  "language_info": {
   "codemirror_mode": {
    "name": "ipython",
    "version": 2
   },
   "file_extension": ".py",
   "mimetype": "text/x-python",
   "name": "python",
   "nbconvert_exporter": "python",
   "pygments_lexer": "ipython2",
   "version": "2.7.12"
  }
 },
 "nbformat": 4,
 "nbformat_minor": 1
}
