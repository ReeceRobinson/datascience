{
 "cells": [
  {
   "cell_type": "markdown",
   "metadata": {
    "nbpresent": {
     "id": "751ceda6-bfee-4a5d-9d73-8145d664a6a6"
    }
   },
   "source": [
    "# MNIST TensorBoard Demo"
   ]
  },
  {
   "cell_type": "code",
   "execution_count": 14,
   "metadata": {
    "collapsed": false
   },
   "outputs": [
    {
     "name": "stdout",
     "output_type": "stream",
     "text": [
      "Extracting MNIST_data/train-images-idx3-ubyte.gz\n",
      "Extracting MNIST_data/train-labels-idx1-ubyte.gz\n",
      "Extracting MNIST_data/t10k-images-idx3-ubyte.gz\n",
      "Extracting MNIST_data/t10k-labels-idx1-ubyte.gz\n",
      "Epoch:  0\n",
      "Accuracy:  0.921\n",
      "done\n"
     ]
    }
   ],
   "source": [
    "import tensorflow as tf\n",
    "\n",
    "# reset everything to rerun in jupyter\n",
    "tf.reset_default_graph()\n",
    "\n",
    "# config\n",
    "batch_size = 100\n",
    "learning_rate = 0.5\n",
    "training_epochs = 5\n",
    "logs_path = \"/tmp/mnist/2\"\n",
    "\n",
    "# load mnist data set\n",
    "from tensorflow.examples.tutorials.mnist import input_data\n",
    "mnist = input_data.read_data_sets('MNIST_data', one_hot=True)\n",
    "\n",
    "# input images\n",
    "with tf.name_scope('input'):\n",
    "    # None -> batch size can be any size, 784 -> flattened mnist image\n",
    "    x = tf.placeholder(tf.float32, shape=[None, 784], name=\"x-input\") \n",
    "    # target 10 output classes\n",
    "    y_ = tf.placeholder(tf.float32, shape=[None, 10], name=\"y-input\")\n",
    "\n",
    "# model parameters will change during training so we use tf.Variable\n",
    "with tf.name_scope(\"weights\"):\n",
    "    W = tf.Variable(tf.zeros([784, 10]))\n",
    "\n",
    "# bias\n",
    "with tf.name_scope(\"biases\"):\n",
    "    b = tf.Variable(tf.zeros([10]))\n",
    "\n",
    "# implement model\n",
    "with tf.name_scope(\"softmax\"):\n",
    "    # y is our prediction\n",
    "    y = tf.nn.softmax(tf.matmul(x,W) + b)\n",
    "\n",
    "# specify cost function\n",
    "with tf.name_scope('cross_entropy'):\n",
    "    # this is our cost\n",
    "    cross_entropy = tf.reduce_mean(-tf.reduce_sum(y_ * tf.log(y), reduction_indices=[1]))\n",
    "\n",
    "# specify optimizer\n",
    "with tf.name_scope('train'):\n",
    "    # optimizer is an \"operation\" which we can execute in a session\n",
    "    train_op = tf.train.GradientDescentOptimizer(learning_rate).minimize(cross_entropy)\n",
    "\n",
    "with tf.name_scope('Accuracy'):\n",
    "    # Accuracy\n",
    "    correct_prediction = tf.equal(tf.argmax(y,1), tf.argmax(y_,1))\n",
    "    accuracy = tf.reduce_mean(tf.cast(correct_prediction, tf.float32))\n",
    "    \n",
    "# create a summary for our cost and accuracy\n",
    "tf.scalar_summary(\"cost\", cross_entropy)\n",
    "tf.scalar_summary(\"accuracy\", accuracy)\n",
    "\n",
    "# merge all summaries into a single \"operation\" which we can execute in a session \n",
    "summary_op = tf.merge_all_summaries()\n",
    "\n",
    "with tf.Session() as sess:\n",
    "    # variables need to be initialized before we can use them\n",
    "    sess.run(tf.initialize_all_variables())\n",
    "\n",
    "    # create log writer object\n",
    "    writer = tf.train.SummaryWriter(logs_path, graph=tf.get_default_graph())\n",
    "        \n",
    "    # perform training cycles\n",
    "    for epoch in range(training_epochs):\n",
    "        \n",
    "        # number of batches in one epoch\n",
    "        batch_count = int(mnist.train.num_examples/batch_size)\n",
    "        \n",
    "        for i in range(batch_count):\n",
    "            batch_x, batch_y = mnist.train.next_batch(batch_size)\n",
    "            \n",
    "            # perform the operations we defined earlier on batch\n",
    "            _, summary = sess.run([train_op, summary_op], feed_dict={x: batch_x, y_: batch_y})\n",
    "            \n",
    "            # write log\n",
    "            writer.add_summary(summary, epoch * batch_count + i)\n",
    "            \n",
    "        if epoch % 5 == 0: \n",
    "            print \"Epoch: \", epoch \n",
    "    print \"Accuracy: \", accuracy.eval(feed_dict={x: mnist.test.images, y_: mnist.test.labels})\n",
    "    print \"done\""
   ]
  },
  {
   "cell_type": "code",
   "execution_count": null,
   "metadata": {
    "collapsed": true
   },
   "outputs": [],
   "source": []
  }
 ],
 "metadata": {
  "anaconda-cloud": {},
  "kernelspec": {
   "display_name": "Python [conda env:tensorflow]",
   "language": "python",
   "name": "conda-env-tensorflow-py"
  },
  "language_info": {
   "codemirror_mode": {
    "name": "ipython",
    "version": 2
   },
   "file_extension": ".py",
   "mimetype": "text/x-python",
   "name": "python",
   "nbconvert_exporter": "python",
   "pygments_lexer": "ipython2",
   "version": "2.7.12"
  },
  "nbpresent": {
   "slides": {
    "103ada07-195c-4da8-b988-c15f895393d3": {
     "id": "103ada07-195c-4da8-b988-c15f895393d3",
     "prev": "ab71d1f7-8dd6-49b8-bb16-fff8d17e9ed9",
     "regions": {
      "b5d9be4d-c871-4795-b863-74e6d877505d": {
       "attrs": {
        "height": 0.8,
        "width": 0.8,
        "x": 0.1,
        "y": 0.1
       },
       "content": {
        "cell": "2f5dc1f3-c77e-44ef-9e00-8cbf0fd619d1",
        "part": "whole"
       },
       "id": "b5d9be4d-c871-4795-b863-74e6d877505d"
      }
     }
    },
    "1c69c63b-10df-4e84-b4f3-51a3da008e14": {
     "id": "1c69c63b-10df-4e84-b4f3-51a3da008e14",
     "prev": "f6de4696-d067-4f25-aad3-7de55bf62604",
     "regions": {
      "0f7f3ff8-c2ad-4fe8-9dc2-c7de3ea9a3a9": {
       "attrs": {
        "height": 0.8,
        "width": 0.8,
        "x": 0.1,
        "y": 0.1
       },
       "content": {
        "cell": "3848a31a-44ad-4f6e-b7a4-468bb04659d4",
        "part": "whole"
       },
       "id": "0f7f3ff8-c2ad-4fe8-9dc2-c7de3ea9a3a9"
      }
     }
    },
    "366b6b5b-50ab-4681-97f3-da8ab3878b75": {
     "id": "366b6b5b-50ab-4681-97f3-da8ab3878b75",
     "prev": "1c69c63b-10df-4e84-b4f3-51a3da008e14",
     "regions": {
      "ee6d4c3f-3836-4030-907f-752a27fadf9a": {
       "attrs": {
        "height": 0.8,
        "width": 0.8,
        "x": 0.1,
        "y": 0.1
       },
       "content": {
        "cell": "dc9a7317-b46b-452b-89b9-205b10ef0b38",
        "part": "whole"
       },
       "id": "ee6d4c3f-3836-4030-907f-752a27fadf9a"
      }
     }
    },
    "3c2f3f2f-4e4e-4758-9322-9c96131dfadb": {
     "id": "3c2f3f2f-4e4e-4758-9322-9c96131dfadb",
     "prev": "69ceda72-5602-4820-baa9-af200b80c28d",
     "regions": {
      "4ccd5281-3084-4e60-a14b-c438a3af8779": {
       "attrs": {
        "height": 0.8,
        "width": 0.8,
        "x": 0.1,
        "y": 0.1
       },
       "content": {
        "cell": "0ddb32e4-376c-47e5-8901-9fc421fa8924",
        "part": "whole"
       },
       "id": "4ccd5281-3084-4e60-a14b-c438a3af8779"
      }
     }
    },
    "69ceda72-5602-4820-baa9-af200b80c28d": {
     "id": "69ceda72-5602-4820-baa9-af200b80c28d",
     "prev": "7ce92cb0-cc3c-41bf-9b86-ea9813a8d483",
     "regions": {
      "d509feaa-b0e8-437f-9c8d-f6fedc267952": {
       "attrs": {
        "height": 0.8,
        "width": 0.8,
        "x": 0.1,
        "y": 0.1
       },
       "content": {
        "cell": "116b1b89-0da7-4fa7-93fb-2d44c847843e",
        "part": "whole"
       },
       "id": "d509feaa-b0e8-437f-9c8d-f6fedc267952"
      }
     }
    },
    "7ce92cb0-cc3c-41bf-9b86-ea9813a8d483": {
     "id": "7ce92cb0-cc3c-41bf-9b86-ea9813a8d483",
     "prev": "9f8d4615-17ad-4573-b442-22f82d11eb00",
     "regions": {
      "f4bc9cb2-5c61-452a-ac81-c52948c68176": {
       "attrs": {
        "height": 0.8,
        "width": 0.8,
        "x": 0.1,
        "y": 0.1
       },
       "content": {
        "cell": "793b8290-5bef-4d31-be41-81be976ee68c",
        "part": "whole"
       },
       "id": "f4bc9cb2-5c61-452a-ac81-c52948c68176"
      }
     }
    },
    "8286267d-cb43-42f8-b4e2-9f1c3a6fdc71": {
     "id": "8286267d-cb43-42f8-b4e2-9f1c3a6fdc71",
     "prev": "9c078026-d73d-4cf0-b3dc-a86049b3c627",
     "regions": {
      "61e1789d-b7f0-4e09-87b6-b9d0d383f71a": {
       "attrs": {
        "height": 0.8,
        "width": 0.8,
        "x": 0.1,
        "y": 0.1
       },
       "content": {
        "cell": "a9b6973c-7932-4db5-96f0-0132093e64b9",
        "part": "whole"
       },
       "id": "61e1789d-b7f0-4e09-87b6-b9d0d383f71a"
      }
     }
    },
    "9c078026-d73d-4cf0-b3dc-a86049b3c627": {
     "id": "9c078026-d73d-4cf0-b3dc-a86049b3c627",
     "prev": "e2b4442c-f5bf-47a4-b609-257d9eb2c6ff",
     "regions": {
      "4e736643-787d-4b39-8352-d0fedcdd17a7": {
       "attrs": {
        "height": 0.8,
        "width": 0.8,
        "x": 0.1,
        "y": 0.1
       },
       "content": {
        "cell": "e4cc520e-054d-4c77-8b39-ef1e6fd2adcb",
        "part": "whole"
       },
       "id": "4e736643-787d-4b39-8352-d0fedcdd17a7"
      }
     }
    },
    "9f8d4615-17ad-4573-b442-22f82d11eb00": {
     "id": "9f8d4615-17ad-4573-b442-22f82d11eb00",
     "prev": null,
     "regions": {
      "36d971db-cd58-4742-bcca-6dc0be8bc8bd": {
       "attrs": {
        "height": 0.8,
        "width": 0.8,
        "x": 0.1,
        "y": 0.1
       },
       "content": {
        "cell": "751ceda6-bfee-4a5d-9d73-8145d664a6a6",
        "part": "whole"
       },
       "id": "36d971db-cd58-4742-bcca-6dc0be8bc8bd"
      }
     }
    },
    "ab71d1f7-8dd6-49b8-bb16-fff8d17e9ed9": {
     "id": "ab71d1f7-8dd6-49b8-bb16-fff8d17e9ed9",
     "prev": "366b6b5b-50ab-4681-97f3-da8ab3878b75",
     "regions": {
      "37972fa3-d1a2-4ee2-96ff-84a0a2d5dbf8": {
       "attrs": {
        "height": 0.8,
        "width": 0.8,
        "x": 0.1,
        "y": 0.1
       },
       "content": {
        "cell": "59d849f6-5036-4f0f-a535-3e812783b73d",
        "part": "whole"
       },
       "id": "37972fa3-d1a2-4ee2-96ff-84a0a2d5dbf8"
      }
     }
    },
    "c50bcdb5-f099-4971-9416-f0270fc6a42a": {
     "id": "c50bcdb5-f099-4971-9416-f0270fc6a42a",
     "prev": "8286267d-cb43-42f8-b4e2-9f1c3a6fdc71",
     "regions": {
      "e168e043-9000-4a70-a41b-4891a0c3a31e": {
       "attrs": {
        "height": 0.8,
        "width": 0.8,
        "x": 0.1,
        "y": 0.1
       },
       "content": {
        "cell": "bf9632b2-e4e3-4837-89db-df3b6b73514a",
        "part": "whole"
       },
       "id": "e168e043-9000-4a70-a41b-4891a0c3a31e"
      }
     }
    },
    "e2b4442c-f5bf-47a4-b609-257d9eb2c6ff": {
     "id": "e2b4442c-f5bf-47a4-b609-257d9eb2c6ff",
     "prev": "103ada07-195c-4da8-b988-c15f895393d3",
     "regions": {
      "30bd4d15-5d44-4f48-9f75-056c8df9aed1": {
       "attrs": {
        "height": 0.8,
        "width": 0.8,
        "x": 0.1,
        "y": 0.1
       },
       "content": {
        "cell": "42345a2f-2edc-4146-a4d5-2ff625eee609",
        "part": "whole"
       },
       "id": "30bd4d15-5d44-4f48-9f75-056c8df9aed1"
      }
     }
    },
    "f6de4696-d067-4f25-aad3-7de55bf62604": {
     "id": "f6de4696-d067-4f25-aad3-7de55bf62604",
     "prev": "3c2f3f2f-4e4e-4758-9322-9c96131dfadb",
     "regions": {
      "4df06f46-21ca-4a80-a068-748f543a0e12": {
       "attrs": {
        "height": 0.8,
        "width": 0.8,
        "x": 0.1,
        "y": 0.1
       },
       "content": {
        "cell": "b1379172-c862-45c9-b6b6-82c1dae4f8f0",
        "part": "whole"
       },
       "id": "4df06f46-21ca-4a80-a068-748f543a0e12"
      }
     }
    }
   },
   "themes": {}
  }
 },
 "nbformat": 4,
 "nbformat_minor": 1
}
